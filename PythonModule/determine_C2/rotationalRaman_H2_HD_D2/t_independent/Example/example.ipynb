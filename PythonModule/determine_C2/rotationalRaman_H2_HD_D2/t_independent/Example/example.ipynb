{
 "cells": [
  {
   "cell_type": "markdown",
   "metadata": {},
   "source": [
    "# Generate $C_2$ from pure-rotational Raman intensities of $H_{2}$, $HD$ and $D_{2}$\n",
    "\n",
    "## Boltzmann temperature is fixed in this analysis"
   ]
  },
  {
   "cell_type": "code",
   "execution_count": null,
   "metadata": {},
   "outputs": [],
   "source": [
    "import compute_spectra\n",
    "import numpy as np"
   ]
  },
  {
   "cell_type": "markdown",
   "metadata": {},
   "source": [
    "## Understanding the computation of Raman spectra\n",
    "\n",
    "The `compute_spetcra` module includes functions to compute the Raman spectra of $H_{2}$ , $HD$ and $D_{2}$ at a given temperature. In this computation, the conversion of units is not performed and hence the intensities have arbitrary units. The generated Raman intensities are normalized to unity. The Raman intensity is computed as : $ \\frac{exp(-hc \\nu / kT)}{\\sum exp(-hc \\nu / kT)} \\times b_{J, J\\pm 2} \\times \\langle \\psi_{v,J} | \\gamma| \\psi_{v^{\\prime},J^{\\prime}}\\rangle^{2} $\n",
    "\n",
    "These computed Raman intensities form the reference for the ananlysis of wavenumber dependent sensitivity. The fit function calls the `compute_spectra` function varying the temperature to yield the temperature simultaneously."
   ]
  },
  {
   "cell_type": "code",
   "execution_count": 2,
   "metadata": {},
   "outputs": [
    {
     "name": "stdout",
     "output_type": "stream",
     "text": [
      "('normalize1d', <function normalize1d at 0x148bd3d4f488>)\n",
      "('spectra_D2', <function spectra_D2 at 0x148bc6c7ad08>)\n",
      "('spectra_H2', <function spectra_H2 at 0x148bc6c7abf8>)\n",
      "('spectra_HD', <function spectra_HD at 0x148bc6c7ac80>)\n"
     ]
    }
   ],
   "source": [
    "from inspect import getmembers, isfunction\n",
    "func_list= getmembers(compute_spectra, isfunction)\n",
    "\n",
    "for i in func_list:\n",
    "    print(i)\n"
   ]
  },
  {
   "cell_type": "markdown",
   "metadata": {},
   "source": [
    "#### The `spectra_H2`, `spectra_HD` and  `spectra_D2` funtions take three parameters each"
   ]
  },
  {
   "cell_type": "code",
   "execution_count": 3,
   "metadata": {},
   "outputs": [],
   "source": [
    "# compute_spectra.spectra_D2( temperature, J_max_Stokes, J_max_antiStokes)"
   ]
  },
  {
   "cell_type": "markdown",
   "metadata": {},
   "source": [
    "This produces a 2D array output which contains data arranged as following:\n",
    "\n",
    "For example: the following is the output for `compute_spectra.spectra_D2( 296, 5, 5)`\n",
    "\n",
    "\n",
    "| J index                  | frequency(rel wavenumber)  | relative Raman intensity | Absolute frequency       |\n",
    "|--------------------------|----------------------------|--------------------------|--------------------------|\n",
    "| 5.000000000000000000e+00 | -5.299002000000000407e+02  | 2.447398239068311263e-02 | 1.931988520000000062e+04 |\n",
    "| 4.000000000000000000e+00 | -4.146485000000000127e+02  | 1.521224443828364248e-01 | 1.920463349999999991e+04 |\n",
    "| 3.000000000000000000e+00 | -2.975337999999999852e+02  | 1.630587192298846300e-01 | 1.908751880000000165e+04 |\n",
    "| 2.000000000000000000e+00 | -1.790671000000000106e+02  | 4.196910728642342936e-01 | 1.896905210000000079e+04 |\n",
    "| 0.000000000000000000e+00 | 1.790671000000000106e+02   | 9.464661716953839399e-01 | 1.861091790000000037e+04 |\n",
    "| 1.000000000000000000e+00 | 2.975337999999999852e+02   | 6.297525566261605867e-01 | 1.849245119999999952e+04 |\n",
    "| 2.000000000000000000e+00 | 4.146485000000000127e+02   | 1.000000000000000000e+00 | 1.837533650000000125e+04 |\n",
    "| 3.000000000000000000e+00 | 5.299002000000000407e+02   | 2.715272728881426012e-01 | 1.826008480000000054e+04 |\n",
    "| 4.000000000000000000e+00 | 6.428066000000001168e+02   | 2.112878791303241244e-01 | 1.814717840000000069e+04 |\n",
    "| 5.000000000000000000e+00 | 7.529198999999998705e+02   | 3.017801202710075278e-02 | 1.803706509999999980e+04 |\n",
    "\n",
    "\n",
    "\n",
    "The laser frequency in absolute wavenumbers is defined within `compute_spectra` module. To change that modify line number 17. The upper limit for the J level is 8 for all the three gases.\n",
    "\n",
    "---\n",
    "\n",
    "\n",
    "\n"
   ]
  },
  {
   "cell_type": "markdown",
   "metadata": {},
   "source": [
    "\n",
    "## Required data for using the module `genC2_PR_T_fixed`"
   ]
  },
  {
   "cell_type": "markdown",
   "metadata": {},
   "source": [
    "####  Experimental data with corresponding error for H2, HD and D2\n",
    "\n",
    "| band_area                  | error |\n",
    "|----------------------------|-------|\n",
    "| Area for J_max(antiStokes) | err   |\n",
    "| ...                        | ...   |\n",
    "| ...                        | ...   |\n",
    "| Area for J_max (Stokes)    | err   |"
   ]
  },
  {
   "cell_type": "markdown",
   "metadata": {},
   "source": [
    "Experimental data is in the form of the 2D array : The first column has the band area, while the second column has the error.\n",
    "\n",
    "The first row has the data for the highest J anti-Stokes band. Following rows contain the area as we move to higher wavenumbers. (This arrangement is strictly required since corresponding reference data is generated in the same order).\n",
    "\n",
    "#### J_max indices for the band area :\n",
    "In order for `compute_spectra` program to generate the band area for the same set as the experimental data, the correct J_max value must be supplied in the beginning section of the `genC2_PR_T_dep` program.\n",
    "\n",
    "For example (line number 29 to 39 ):\n",
    "\n",
    "\n"
   ]
  },
  {
   "cell_type": "code",
   "execution_count": 5,
   "metadata": {},
   "outputs": [],
   "source": [
    "H2_aSJmax = 5\n",
    "H2_SJmax = 5\n",
    "\n",
    "HD_aSJmax = 5\n",
    "HD_SJmax = 5\n",
    "\n",
    "D2_aSJmax = 7\n",
    "D2_SJmax = 7\n"
   ]
  },
  {
   "cell_type": "markdown",
   "metadata": {},
   "source": [
    "####  Experimental data with corresponding error for $O_{2}$\n",
    "**(Data on the vibration-rotation bands of $O_{2}$ extends the calibration range to 1700 $cm^{-1}$ )**\n",
    "\n",
    "For O2, individual polarizability invariants are not available. Hence, the individual Raman intensities cannot be computed. Thus, Raman intensity ratios of bands originating from common initial states are used, and for such an analysis only the ratio of the polarizability invariants are needed. These are available from following work: \n",
    "\n",
    " - M. A. Buldakov, V. N. Cherepanov, B. V. Korolev, I. I. Matrosov, J Mol Spectrosc 2003, 217, 1.https://doi.org/10.1016/S0022-2852(02)00012-7\n",
    "\n",
    "See following work and supplementary material for the tabulation of Raman transitions in O2 and the ratio of polarizability invariants (wavelength independent) adaped from above work.\n",
    " \n",
    " - Raj, A, Kato, C, Witek, HA, Hamaguchi, H. Toward standardization of Raman spectroscopy: Accurate wavenumber and intensity calibration using rotational Raman spectra of H2, HD, D2, and vibration–rotation spectrum of O2. J Raman Spectrosc. 2020; 51: 2066– 2082. https://doi.org/10.1002/jrs.5955 \n",
    "\n",
    "\n",
    "\n",
    "Data for O2 is to be provided as a 2D array, where the definitions of the columns are defined as following:\n",
    "\n",
    "| J_level | int_ratio_expt     | int_ratio_calc     | Freq(S1) | Freq(O1) | Weight             |\n",
    "|---------|--------------------|--------------------|----------|----------|--------------------|\n",
    "| 5       | 1.096384483591794  | 1.361508380033122  | 1592.9   | 1530.3   | 0.3628410764142917 |\n",
    "| 7       | 1.181171127898345  | 1.19877676761575   | 1603.9   | 1518.4   | 0.3204207592519423 |\n",
    "| 9       | 1.065233475830319  | 1.104407582232363  | 1614.7   | 1506.5   | 0.3711246272006026 |\n",
    "| 11      | 0.9967303609341827 | 1.038855173103196  | 1625.4   | 1494.5   | 0.6086726772175894 |\n",
    "| 13      | 1.000263977614698  | 0.9883605463246187 | 1636     | 1482.3   | 0.516429274349282  |\n",
    "| 15      | 0.8968363136176066 | 0.9468542756158576 | 1646.4   | 1470     | 0.5237828299805377 |\n",
    "\n",
    "\n",
    "See sample file in the examples folder for [pure rotation](https://github.com/ankit7540/IntensityCalbr/blob/master/PythonModule/determine_C2/rotationalRaman_H2_HD_D2/pure_rotation/t_dependent/Example/sample_O2_PR) and [rotation-vibration](https://github.com/ankit7540/IntensityCalbr/blob/master/PythonModule/determine_C2/rotationalRaman_H2_HD_D2/pure_rotation/t_dependent/Example/sample_O2_O1S1) in O2.\n",
    "\n"
   ]
  },
  {
   "cell_type": "code",
   "execution_count": null,
   "metadata": {},
   "outputs": [],
   "source": []
  },
  {
   "cell_type": "markdown",
   "metadata": {},
   "source": [
    "---\n",
    "# Details on the module `genC2_PR_T_fixed`\n",
    "\n",
    "### This module requrires editing to set input data and analysis params before importing. Please modify line numbers 21 to 95, then import.\n",
    "\n",
    "In the following example, the lines have been modified to load data and set params.\n"
   ]
  },
  {
   "cell_type": "code",
   "execution_count": 7,
   "metadata": {},
   "outputs": [],
   "source": [
    "################ EDIT FOLLOWING BLOCK  ##################\n",
    "\n",
    "# LOAD EXPERIMENTAL BAND AREA DATA\n",
    "\n",
    "dataH2 = np.loadtxt(\"./BA_H2_1.txt\")\n",
    "dataHD = np.loadtxt(\"./BA_HD_1.txt\")\n",
    "dataD2 = np.loadtxt(\"./BA_D2_1.txt\")\n",
    "\n",
    "\n",
    "dataO2 = np.loadtxt(\"./DataO2_o1s1.txt\")\n",
    "dataO2_p = np.loadtxt(\"./DataO2_pR.txt\")\n",
    "\n",
    "xaxis  = np.loadtxt(\"./Wavenumber_axis_pa.txt\")\n",
    "\n",
    "# -------------------------------------------------\n",
    "\n",
    "# Jlevels information for the three gases\n",
    "#  This is required to correspond to the input expt band area provided above\n",
    "#  see readme and examples for more details\n",
    "H2_aSJmax = 5\n",
    "H2_SJmax = 5\n",
    "\n",
    "HD_aSJmax = 5\n",
    "HD_SJmax = 5\n",
    "\n",
    "D2_aSJmax = 7\n",
    "D2_SJmax = 7\n",
    "\n",
    "# -------------------------------------------------\n",
    "\n",
    "T_fixed = 298   # Kelvin\n",
    "\n",
    "\n",
    "#print(dataH2.shape)\n",
    "#print(dataHD.shape)\n",
    "#print(dataD2.shape)\n",
    "\n",
    "\n",
    "# scaling Constants ------------------------------\n",
    "# these are used for scaling the coefs\n",
    "scale1 = 1e4\n",
    "scale2 = 1e7\n",
    "scale3 = 1e9\n",
    "scale4 = 1e12\n",
    "\n",
    "# -------------------------------------------------\n",
    "\n",
    "# norm type \n",
    "# Do not change the variable name on the LHS \n",
    "# available norm types : Frobenius, Frobenius_sq, absolute\n",
    "# lower case :           frobenius, frobenius_sq, absolute\n",
    "# or abbreviations:      F  , FS , A\n",
    "\n",
    "norm =  'Frobenius'\n",
    "\n",
    "# if norm is not set then the default is sum of absolute values \n",
    "# See readme for more details\n",
    "\n",
    "\n",
    "# these are used for scaling the weights for O2 as needed\n",
    "# Do not change the variable name on the LHS \n",
    "\n",
    "scale_O2_S1O1 = 0.5\n",
    "scale_O2_pureRotn= 0.5\n",
    "\n",
    "# weight = 1.0 means that the net uncertainty depends on the \n",
    "#          error of the band\n",
    "\n",
    "#  weight = 0.0 means that the bands are not included \n",
    "#           in the fit altogether\n",
    "\n",
    "# ----------------------------------------\n"
   ]
  },
  {
   "cell_type": "code",
   "execution_count": 8,
   "metadata": {},
   "outputs": [
    {
     "name": "stdout",
     "output_type": "stream",
     "text": [
      "\t**********************************************************\n",
      "\t \n",
      "\t This module is for generating the wavenumber-dependent\n",
      "\t intensity correction curve termed as C2 from \n",
      "\t  experimental Raman intensities. \n",
      "\n",
      "\t This modeule requires edit on line 21 to 92 to \n",
      "\n",
      "\t  load data and set parameters for the analysis.\n",
      "\n",
      "\t  Temperature is fixed in this analysis. See line 51.\n",
      "\t**********************************************************\n",
      "\n",
      "\t\t Checking imported data and set params\n",
      "\t\t  dataH2 found, OK\n",
      "\t\t  dataHD found, OK\n",
      "\t\t  dataD2 found, OK\n",
      "\t\t  xaxis found, OK\n",
      "\t\t  dataO2 found, OK\n",
      "\t\t  dataO2_p found, OK\n",
      "\n",
      "\t\t  Analysis parameters:\n",
      "\t\t Temperature (will be fixed) : 298\n",
      "\t\t scaling factors (for c1 to c3) : 10000.0 10000000.0 1000000000.0\n",
      "\t\t Norm (defn of residual) :  Frobenius\n",
      "\t\t Scaling factor for O2 (ro-vibrn, O1 and S1):  0.5\n",
      "\t\t Scaling factor for O2 (pure rotn):  0.5\n",
      "\t**********************************************************\n",
      "\n",
      "\t REQUIRED DATA\n",
      "\t\t\t Ramanshift = vector, the x-axis in relative wavenumbers\n",
      "\t\t\t band area and error = 2D (2 columns), for H2, HD and D2\n",
      "\n",
      "\t\t\t J_max = scalar, for H2, HD and D2 (to compute reference spectra)\n",
      "\t\t\t band area and error = 2D (6 columns), for O2, pure rotation \n",
      "\t\t\t                            and for rotation-vibration bands \n",
      "\t**********************************************************\n",
      "\n",
      "\t\t\t  Example:\n",
      "\t\t\t  run_fit_linear_TF(  1.04586 )\n",
      "\t\t\t  run_fit_quadratic_TF(  -1, -0.242 ) \n",
      "\t**********************************************************\n"
     ]
    }
   ],
   "source": [
    "import genC2_PR_T_fixed"
   ]
  },
  {
   "cell_type": "code",
   "execution_count": null,
   "metadata": {},
   "outputs": [],
   "source": []
  },
  {
   "cell_type": "markdown",
   "metadata": {},
   "source": [
    "---"
   ]
  },
  {
   "cell_type": "markdown",
   "metadata": {},
   "source": [
    "\n"
   ]
  },
  {
   "cell_type": "markdown",
   "metadata": {},
   "source": [
    "## List of available functions in `genC2_PR_T_fixed`"
   ]
  },
  {
   "cell_type": "code",
   "execution_count": 9,
   "metadata": {},
   "outputs": [
    {
     "name": "stdout",
     "output_type": "stream",
     "text": [
      "('clean_mat', <function clean_mat at 0x148bc5954d08>)\n",
      "('gen_intensity_mat', <function gen_intensity_mat at 0x148bc5954f28>)\n",
      "('gen_s_cubic', <function gen_s_cubic at 0x148bc5954a60>)\n",
      "('gen_s_linear', <function gen_s_linear at 0x148bc5954b70>)\n",
      "('gen_s_quadratic', <function gen_s_quadratic at 0x148bc5954ae8>)\n",
      "('gen_s_quartic', <function gen_s_quartic at 0x148bc59549d8>)\n",
      "('gen_weight', <function gen_weight at 0x148bc5954c80>)\n",
      "('inverse_square', <function inverse_square at 0x148bc5954bf8>)\n",
      "('residual_cubic_TF', <function residual_cubic_TF at 0x148bc5954730>)\n",
      "('residual_linear_TF', <function residual_linear_TF at 0x148bc5954950>)\n",
      "('residual_quadratic_TF', <function residual_quadratic_TF at 0x148bc59547b8>)\n",
      "('run_fit_cubic_TF', <function run_fit_cubic_TF at 0x148bc5954598>)\n",
      "('run_fit_linear_TF', <function run_fit_linear_TF at 0x148bc59546a8>)\n",
      "('run_fit_quadratic_TF', <function run_fit_quadratic_TF at 0x148bc5954620>)\n",
      "('scale_opp_diagonal', <function scale_opp_diagonal at 0x148bc5954ea0>)\n",
      "('timeme', <function timeme at 0x148bd30a4d08>)\n"
     ]
    }
   ],
   "source": [
    "from inspect import getmembers, isfunction\n",
    "func_list= getmembers(genC2_PR_T_fixed, isfunction)\n",
    "\n",
    "for i in func_list:\n",
    "    print(i)\n"
   ]
  },
  {
   "cell_type": "markdown",
   "metadata": {},
   "source": [
    "#### Getting documentation (doc string) for a function"
   ]
  },
  {
   "cell_type": "code",
   "execution_count": 10,
   "metadata": {},
   "outputs": [
    {
     "name": "stdout",
     "output_type": "stream",
     "text": [
      "To obtain the intensity matrix for the numerator or denominator        in the Intensity ratio matrix\n",
      "\n",
      "        array  =  2D array of data where index column contains the intensity data\n",
      "        index  =  corresponding to the column which has intensity\n",
      "\n",
      "        returns => square matrix of intensity ratio : { I(v1)/I(v2) } \n"
     ]
    }
   ],
   "source": [
    "print(genC2_PR_T_fixed.gen_intensity_mat.__doc__)"
   ]
  },
  {
   "cell_type": "code",
   "execution_count": 11,
   "metadata": {},
   "outputs": [
    {
     "data": {
      "text/plain": [
       "7.783206656760373"
      ]
     },
     "execution_count": 11,
     "metadata": {},
     "output_type": "execute_result"
    }
   ],
   "source": [
    "# Creating test parameter\n",
    "param_lin = np.zeros(1)\n",
    "param_lin[0]=-0.96\n",
    "\n",
    "\n",
    "\n",
    "param_quadratic = np.zeros(2)\n",
    "param_quadratic[0]=-0.96\n",
    "param_quadratic[1]=0.05\n",
    "\n",
    "\n",
    "# Testing residual function with test parameters \n",
    "#  the residual functions accept input parameters as numpy arrays\n",
    "genC2_PR_T_fixed.residual_linear_TF(param_lin)\n",
    "\n"
   ]
  },
  {
   "cell_type": "code",
   "execution_count": 12,
   "metadata": {},
   "outputs": [
    {
     "data": {
      "text/plain": [
       "7.783687745751587"
      ]
     },
     "execution_count": 12,
     "metadata": {},
     "output_type": "execute_result"
    }
   ],
   "source": [
    "genC2_PR_T_fixed.residual_quadratic_TF(param_quadratic)"
   ]
  },
  {
   "cell_type": "code",
   "execution_count": 13,
   "metadata": {},
   "outputs": [
    {
     "name": "stdout",
     "output_type": "stream",
     "text": [
      "**********************************************************\n",
      "\t\t -- Linear fit -- \n",
      "\t\tNorm (defn of residual):  Frobenius\n",
      "\t\t Temperature (K) [fixed]:  298\n",
      "Initial coef :  k1=-0.96 output = 7.783206656760373\n",
      "\n",
      "Optimization run     \n",
      "\n",
      " final_simplex: (array([[-1.02724546],\n",
      "       [-1.02724546]]), array([7.77943916, 7.77943916]))\n",
      "           fun: 7.779439164033701\n",
      "       message: 'Optimization terminated successfully.'\n",
      "          nfev: 57\n",
      "           nit: 27\n",
      "        status: 0\n",
      "       success: True\n",
      "             x: array([-1.02724546])\n",
      "\n",
      "Optimized result : k1=-1.027245 \n",
      "\n",
      "**********************************************************\n"
     ]
    }
   ],
   "source": [
    "# Testing fit function based on linear model with test parameters\n",
    "#  fit function does not need an array as input. Temperature and coefs are passed directly.\n",
    "\n",
    "genC2_PR_T_fixed.run_fit_linear_TF(  -0.96 )"
   ]
  },
  {
   "cell_type": "code",
   "execution_count": 14,
   "metadata": {},
   "outputs": [
    {
     "name": "stdout",
     "output_type": "stream",
     "text": [
      "**********************************************************\n",
      "\t\t -- Quadratic fit -- \n",
      "\t\tNorm (defn of residual):  Frobenius\n",
      "\t\t Temperature (K) [fixed]:  298\n",
      "Initial coef :  k1=-1.07, k2=-0.02 output = 7.782781395361665\n",
      "\n",
      "Optimization run     \n",
      "\n",
      " final_simplex: (array([[-1.05742757,  0.082163  ],\n",
      "       [-1.05742757,  0.082163  ],\n",
      "       [-1.05742757,  0.082163  ]]), array([7.77753859, 7.77753859, 7.77753859]))\n",
      "           fun: 7.777538593935777\n",
      "       message: 'Optimization terminated successfully.'\n",
      "          nfev: 146\n",
      "           nit: 70\n",
      "        status: 0\n",
      "       success: True\n",
      "             x: array([-1.05742757,  0.082163  ])\n",
      "\n",
      "Optimized result : k1=-1.057428, k2=0.082163 \n",
      "\n",
      "**********************************************************\n"
     ]
    }
   ],
   "source": [
    "genC2_PR_T_fixed.run_fit_quadratic_TF(  -1.07 ,  -0.02 )"
   ]
  },
  {
   "cell_type": "code",
   "execution_count": null,
   "metadata": {},
   "outputs": [],
   "source": []
  },
  {
   "cell_type": "code",
   "execution_count": 15,
   "metadata": {},
   "outputs": [
    {
     "name": "stdout",
     "output_type": "stream",
     "text": [
      "**********************************************************\n",
      "\t\t -- Quadratic fit -- \n",
      "\t\tNorm (defn of residual):  Frobenius\n",
      "\t\t Temperature (K) [fixed]:  298\n",
      "Initial coef :  k1=0.64, k2=0.01 output = 9.177549886643945\n",
      "\n",
      "Optimization run     \n",
      "\n",
      " final_simplex: (array([[-1.05742759,  0.08216304],\n",
      "       [-1.05742759,  0.08216304],\n",
      "       [-1.05742759,  0.08216304]]), array([7.77753859, 7.77753859, 7.77753859]))\n",
      "           fun: 7.777538593935777\n",
      "       message: 'Optimization terminated successfully.'\n",
      "          nfev: 168\n",
      "           nit: 81\n",
      "        status: 0\n",
      "       success: True\n",
      "             x: array([-1.05742759,  0.08216304])\n",
      "\n",
      "Optimized result : k1=-1.057428, k2=0.082163 \n",
      "\n",
      "**********************************************************\n"
     ]
    }
   ],
   "source": [
    "    genC2_PR_T_fixed.run_fit_quadratic_TF(  0.64, 0.01 )"
   ]
  },
  {
   "cell_type": "code",
   "execution_count": 16,
   "metadata": {},
   "outputs": [],
   "source": [
    "# genC2_PR_T_dep.run_fit_cubic(298, 0.64, 0.01 , -0.01 )"
   ]
  },
  {
   "cell_type": "code",
   "execution_count": 17,
   "metadata": {},
   "outputs": [
    {
     "name": "stdout",
     "output_type": "stream",
     "text": [
      "**********************************************************\n",
      "\t\t -- Cubic fit -- \n",
      "\t\tNorm (defn of residual):  Frobenius\n",
      "\t\t Temperature (K) [fixed]:  298\n",
      "Initial coef :  k1=-0.931, k2=-0.242, k3=-1e-06, output = 7.812113038850721\n",
      "\n",
      "Optimization run     \n",
      "\n",
      " final_simplex: (array([[-0.70226044,  0.6430877 , -0.05479143],\n",
      "       [-0.70226044,  0.6430877 , -0.05479143],\n",
      "       [-0.70226044,  0.6430877 , -0.05479143],\n",
      "       [-0.70226044,  0.6430877 , -0.05479143]]), array([7.71503658, 7.71503658, 7.71503658, 7.71503658]))\n",
      "           fun: 7.715036575714204\n",
      "       message: 'Optimization terminated successfully.'\n",
      "          nfev: 425\n",
      "           nit: 229\n",
      "        status: 0\n",
      "       success: True\n",
      "             x: array([-0.70226044,  0.6430877 , -0.05479143])\n",
      "\n",
      "Optimized result : k1=-0.70226, k2=0.643088, k3=-0.054791 \n",
      "\n",
      "**********************************************************\n"
     ]
    }
   ],
   "source": [
    "genC2_PR_T_fixed.run_fit_cubic_TF(  -0.931, -0.242 , -0.000001 )"
   ]
  },
  {
   "cell_type": "code",
   "execution_count": null,
   "metadata": {},
   "outputs": [],
   "source": []
  }
 ],
 "metadata": {
  "kernelspec": {
   "display_name": "Python 3",
   "language": "python",
   "name": "python3"
  },
  "language_info": {
   "codemirror_mode": {
    "name": "ipython",
    "version": 3
   },
   "file_extension": ".py",
   "mimetype": "text/x-python",
   "name": "python",
   "nbconvert_exporter": "python",
   "pygments_lexer": "ipython3",
   "version": "3.5.6"
  }
 },
 "nbformat": 4,
 "nbformat_minor": 4
}
