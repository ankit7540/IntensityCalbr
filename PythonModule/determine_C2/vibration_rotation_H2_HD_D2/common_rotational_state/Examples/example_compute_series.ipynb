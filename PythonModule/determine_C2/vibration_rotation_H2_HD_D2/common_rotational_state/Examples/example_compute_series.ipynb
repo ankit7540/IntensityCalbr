{
 "cells": [
  {
   "cell_type": "markdown",
   "metadata": {},
   "source": [
    "# `compute_series_para` and `compute_series_perp` modules"
   ]
  },
  {
   "cell_type": "code",
   "execution_count": 1,
   "metadata": {},
   "outputs": [],
   "source": [
    "import compute_series_para\n",
    "import boltzmann_popln as bp"
   ]
  },
  {
   "cell_type": "markdown",
   "metadata": {},
   "source": [
    "### Listing all available functions"
   ]
  },
  {
   "cell_type": "code",
   "execution_count": 2,
   "metadata": {},
   "outputs": [
    {
     "name": "stdout",
     "output_type": "stream",
     "text": [
      "('D2_O1', <function D2_O1 at 0x14bdf830d158>)\n",
      "('D2_Q1', <function D2_Q1 at 0x14bdf830d1e0>)\n",
      "('D2_S1', <function D2_S1 at 0x14bdf830d0d0>)\n",
      "('H2_O1', <function H2_O1 at 0x14bdf830d400>)\n",
      "('H2_Q1', <function H2_Q1 at 0x14bdf830d488>)\n",
      "('H2_S1', <function H2_S1 at 0x14bdf830d378>)\n",
      "('HD_O1', <function HD_O1 at 0x14bdf8315d90>)\n",
      "('HD_Q1', <function HD_Q1 at 0x14bdf8315f28>)\n",
      "('HD_S1', <function HD_S1 at 0x14bdf8315ea0>)\n",
      "('normalize1d', <function normalize1d at 0x14bdf97d7c80>)\n",
      "('spectra_D2', <function spectra_D2 at 0x14bdf830d268>)\n",
      "('spectra_D2_o1s1', <function spectra_D2_o1s1 at 0x14bdf830d2f0>)\n",
      "('spectra_H2', <function spectra_H2 at 0x14bdf830d510>)\n",
      "('spectra_H2_c', <function spectra_H2_c at 0x14bdf830d598>)\n",
      "('spectra_HD', <function spectra_HD at 0x14bdf8315e18>)\n",
      "('spectra_HD_o1s1', <function spectra_HD_o1s1 at 0x14bdf830d048>)\n"
     ]
    }
   ],
   "source": [
    "from inspect import getmembers, isfunction\n",
    "func_list= getmembers(compute_series_para, isfunction)\n",
    "\n",
    "for i in func_list:\n",
    "    print(i)"
   ]
  },
  {
   "cell_type": "code",
   "execution_count": 3,
   "metadata": {},
   "outputs": [
    {
     "name": "stdout",
     "output_type": "stream",
     "text": [
      "Compute in intensities and position for rotational Raman bands of D2\n",
      "        where OJ = max J state for O(v = 1) bands\n",
      "              QJ = max J state for Q(v = 1) bands\n",
      "              SJ = max J state for S(v = 1) bands\n",
      "     \n"
     ]
    }
   ],
   "source": [
    "# print doc string \n",
    "print(compute_series_para.spectra_D2.__doc__)"
   ]
  },
  {
   "cell_type": "markdown",
   "metadata": {},
   "source": [
    "### Compute the sum of states"
   ]
  },
  {
   "cell_type": "code",
   "execution_count": 4,
   "metadata": {},
   "outputs": [],
   "source": [
    "sos_H2 = bp.sumofstate_H2(298)\n",
    "sos_HD = bp.sumofstate_HD(298)\n",
    "sos_D2 = bp.sumofstate_D2(298)"
   ]
  },
  {
   "cell_type": "code",
   "execution_count": 5,
   "metadata": {},
   "outputs": [
    {
     "name": "stdout",
     "output_type": "stream",
     "text": [
      "7.718505758085727\n",
      "5.010427682476515\n",
      "32.86934752597371\n"
     ]
    }
   ],
   "source": [
    "print(sos_H2)\n",
    "print(sos_HD)\n",
    "print(sos_D2)"
   ]
  },
  {
   "cell_type": "code",
   "execution_count": 6,
   "metadata": {},
   "outputs": [
    {
     "name": "stdout",
     "output_type": "stream",
     "text": [
      "25.220224114932865\n",
      "16.692879385298472\n",
      "112.4292187553976\n"
     ]
    }
   ],
   "source": [
    "print(bp.sumofstate_H2(1025))\n",
    "print(bp.sumofstate_HD(1025))\n",
    "print(bp.sumofstate_D2(1025))"
   ]
  },
  {
   "cell_type": "markdown",
   "metadata": {},
   "source": [
    "---\n",
    "\n",
    "### Compute Raman intensities covering O,Q and S bands\n"
   ]
  },
  {
   "cell_type": "code",
   "execution_count": 7,
   "metadata": {},
   "outputs": [],
   "source": [
    "# output \n",
    "\n",
    "#   J_index, Freq(relative, cm-1), Raman intensity (not normalized), Abs_freq (cm-1)"
   ]
  },
  {
   "cell_type": "markdown",
   "metadata": {},
   "source": [
    "#### Parallel polarized"
   ]
  },
  {
   "cell_type": "code",
   "execution_count": 8,
   "metadata": {},
   "outputs": [
    {
     "data": {
      "text/plain": [
       "array([[0.00000000e+00, 3.88767940e+03, 3.56068370e-02, 1.49023056e+04],\n",
       "       [1.00000000e+00, 4.05219450e+03, 3.74502105e-02, 1.47377905e+04],\n",
       "       [2.00000000e+00, 4.20995900e+03, 2.04355686e-02, 1.45800260e+04],\n",
       "       [3.00000000e+00, 4.35993980e+03, 6.65498698e-03, 1.44300452e+04],\n",
       "       [4.00000000e+00, 4.50121130e+03, 1.36147731e-03, 1.42887737e+04]])"
      ]
     },
     "execution_count": 8,
     "metadata": {},
     "output_type": "execute_result"
    }
   ],
   "source": [
    "compute_series_para.HD_S1(298, 4, bp.sumofstate_HD(298))"
   ]
  },
  {
   "cell_type": "code",
   "execution_count": 23,
   "metadata": {},
   "outputs": [
    {
     "data": {
      "text/plain": [
       "array([[4.00000000e+00, 3.00451710e+03, 2.26068789e-03, 1.57854679e+04],\n",
       "       [3.00000000e+00, 3.18522300e+03, 7.67124385e-03, 1.56047620e+04],\n",
       "       [2.00000000e+00, 3.36509120e+03, 1.36805176e-02, 1.54248938e+04]])"
      ]
     },
     "execution_count": 23,
     "metadata": {},
     "output_type": "execute_result"
    }
   ],
   "source": [
    "compute_series_para.HD_O1(298, 4, bp.sumofstate_HD(298))"
   ]
  },
  {
   "cell_type": "markdown",
   "metadata": {},
   "source": [
    "---"
   ]
  },
  {
   "cell_type": "code",
   "execution_count": 11,
   "metadata": {},
   "outputs": [
    {
     "data": {
      "text/plain": [
       "array([[3.00000000e+00, 3.56822170e+03, 7.35668591e-03, 1.52217633e+04],\n",
       "       [2.00000000e+00, 3.80679300e+03, 6.45094332e-03, 1.49831920e+04],\n",
       "       [3.00000000e+00, 4.12587260e+03, 3.36605053e-01, 1.46641124e+04],\n",
       "       [2.00000000e+00, 4.14346530e+03, 4.31695222e-01, 1.46465197e+04],\n",
       "       [1.00000000e+00, 4.15525370e+03, 2.42336630e+00, 1.46347313e+04],\n",
       "       [0.00000000e+00, 4.16116620e+03, 4.63498064e-01, 1.46288188e+04],\n",
       "       [0.00000000e+00, 4.49783850e+03, 2.37104261e-02, 1.42921465e+04],\n",
       "       [1.00000000e+00, 4.71290460e+03, 6.34119275e-02, 1.40770804e+04],\n",
       "       [2.00000000e+00, 4.91700620e+03, 8.51673675e-03, 1.38729788e+04],\n",
       "       [3.00000000e+00, 5.10840280e+03, 5.37749435e-03, 1.36815822e+04]])"
      ]
     },
     "execution_count": 11,
     "metadata": {},
     "output_type": "execute_result"
    }
   ],
   "source": [
    "compute_series_para.spectra_H2(298, 3, 3, 3, bp.sumofstate_H2(298))"
   ]
  },
  {
   "cell_type": "markdown",
   "metadata": {},
   "source": [
    "The order of the computed data is from lower wavenumber to higher wavenumber (see column 2). \n",
    "\n",
    "Thus the order of the transitions are : O(J_max), O(J-1),.., Q(J-1), Q(J=0), S(J=0), S(J=1),..,S(J_max)"
   ]
  },
  {
   "cell_type": "code",
   "execution_count": 26,
   "metadata": {},
   "outputs": [
    {
     "data": {
      "text/plain": [
       "array([[3.00000000e+00, 2.69397320e+03, 2.90836135e-02, 1.60960118e+04],\n",
       "       [2.00000000e+00, 2.81455000e+03, 7.00787436e-02, 1.59754350e+04],\n",
       "       [3.00000000e+00, 2.98098930e+03, 1.55637324e+00, 1.58089957e+04],\n",
       "       [2.00000000e+00, 2.98729340e+03, 5.23266419e+00, 1.58026916e+04],\n",
       "       [1.00000000e+00, 2.99150700e+03, 2.80027309e+00, 1.57984780e+04],\n",
       "       [0.00000000e+00, 2.99361710e+03, 2.42807898e+00, 1.57963679e+04],\n",
       "       [0.00000000e+00, 3.16636050e+03, 1.29303783e-01, 1.56236245e+04],\n",
       "       [1.00000000e+00, 3.27852310e+03, 8.04131003e-02, 1.55114619e+04],\n",
       "       [2.00000000e+00, 3.38726260e+03, 1.19320139e-01, 1.54027224e+04],\n",
       "       [3.00000000e+00, 3.49209360e+03, 3.02708580e-02, 1.52978914e+04]])"
      ]
     },
     "execution_count": 26,
     "metadata": {},
     "output_type": "execute_result"
    }
   ],
   "source": [
    "compute_series_para.spectra_D2(298, 3, 3, 3, bp.sumofstate_H2(298))"
   ]
  },
  {
   "cell_type": "markdown",
   "metadata": {},
   "source": [
    "---\n",
    "---\n",
    "\n",
    "#### Perpendicular polarized"
   ]
  },
  {
   "cell_type": "code",
   "execution_count": 27,
   "metadata": {},
   "outputs": [],
   "source": [
    "import compute_series_perp"
   ]
  },
  {
   "cell_type": "code",
   "execution_count": 28,
   "metadata": {},
   "outputs": [
    {
     "name": "stdout",
     "output_type": "stream",
     "text": [
      "('D2_O1', <function D2_O1 at 0x14bdf82b3268>)\n",
      "('D2_Q1', <function D2_Q1 at 0x14bdf82b32f0>)\n",
      "('D2_S1', <function D2_S1 at 0x14bdf82b31e0>)\n",
      "('H2_O1', <function H2_O1 at 0x14bdf82b3510>)\n",
      "('H2_Q1', <function H2_Q1 at 0x14bdf82b3598>)\n",
      "('H2_S1', <function H2_S1 at 0x14bdf82b3488>)\n",
      "('HD_O1', <function HD_O1 at 0x14bdf830dd90>)\n",
      "('HD_Q1', <function HD_Q1 at 0x14bdf82b3048>)\n",
      "('HD_S1', <function HD_S1 at 0x14bdf830df28>)\n",
      "('normalize1d', <function normalize1d at 0x14bdf97d7d90>)\n",
      "('spectra_D2', <function spectra_D2 at 0x14bdf82b3378>)\n",
      "('spectra_D2_o1s1', <function spectra_D2_o1s1 at 0x14bdf82b3400>)\n",
      "('spectra_H2', <function spectra_H2 at 0x14bdf82b3620>)\n",
      "('spectra_H2_c', <function spectra_H2_c at 0x14bdf82b36a8>)\n",
      "('spectra_HD', <function spectra_HD at 0x14bdf82b30d0>)\n",
      "('spectra_HD_o1s1', <function spectra_HD_o1s1 at 0x14bdf82b3158>)\n"
     ]
    }
   ],
   "source": [
    "from inspect import getmembers, isfunction\n",
    "func_list= getmembers(compute_series_perp, isfunction)\n",
    "\n",
    "for i in func_list:\n",
    "    print(i)"
   ]
  },
  {
   "cell_type": "code",
   "execution_count": 29,
   "metadata": {},
   "outputs": [
    {
     "data": {
      "text/plain": [
       "array([[ 3.00000000e+00,  3.56822170e+03,  5.51751443e-03,\n",
       "         1.52217633e+04],\n",
       "       [ 2.00000000e+00,  3.80679300e+03,  4.83820749e-03,\n",
       "         1.49831920e+04],\n",
       "       [ 3.00000000e+00,  4.12587260e+03,  4.20715404e-03,\n",
       "         1.46641124e+04],\n",
       "       [ 2.00000000e+00,  4.14346530e+03,  5.72420648e-03,\n",
       "         1.46465197e+04],\n",
       "       [ 1.00000000e+00,  4.15525370e+03,  4.44110972e-02,\n",
       "         1.46347313e+04],\n",
       "       [ 0.00000000e+00,  4.16116620e+03, -0.00000000e+00,\n",
       "         1.46288188e+04],\n",
       "       [ 0.00000000e+00,  4.49783850e+03,  1.77828196e-02,\n",
       "         1.42921465e+04],\n",
       "       [ 1.00000000e+00,  4.71290460e+03,  4.75589456e-02,\n",
       "         1.40770804e+04],\n",
       "       [ 2.00000000e+00,  4.91700620e+03,  6.38755257e-03,\n",
       "         1.38729788e+04],\n",
       "       [ 3.00000000e+00,  5.10840280e+03,  4.03312076e-03,\n",
       "         1.36815822e+04]])"
      ]
     },
     "execution_count": 29,
     "metadata": {},
     "output_type": "execute_result"
    }
   ],
   "source": [
    "compute_series_perp.spectra_H2(298, 3, 3, 3, bp.sumofstate_H2(298))\n",
    "#   J_index, Freq(relative, cm-1), Raman intensity (not normalized), Abs_freq (cm-1)"
   ]
  },
  {
   "cell_type": "code",
   "execution_count": 30,
   "metadata": {},
   "outputs": [
    {
     "data": {
      "text/plain": [
       "array([[3.00000000e+00, 3.56822170e+03, 7.35668591e-03, 1.52217633e+04],\n",
       "       [2.00000000e+00, 3.80679300e+03, 6.45094332e-03, 1.49831920e+04],\n",
       "       [3.00000000e+00, 4.12587260e+03, 3.36605053e-01, 1.46641124e+04],\n",
       "       [2.00000000e+00, 4.14346530e+03, 4.31695222e-01, 1.46465197e+04],\n",
       "       [1.00000000e+00, 4.15525370e+03, 2.42336630e+00, 1.46347313e+04],\n",
       "       [0.00000000e+00, 4.16116620e+03, 4.63498064e-01, 1.46288188e+04],\n",
       "       [0.00000000e+00, 4.49783850e+03, 2.37104261e-02, 1.42921465e+04],\n",
       "       [1.00000000e+00, 4.71290460e+03, 6.34119275e-02, 1.40770804e+04],\n",
       "       [2.00000000e+00, 4.91700620e+03, 8.51673675e-03, 1.38729788e+04],\n",
       "       [3.00000000e+00, 5.10840280e+03, 5.37749435e-03, 1.36815822e+04]])"
      ]
     },
     "execution_count": 30,
     "metadata": {},
     "output_type": "execute_result"
    }
   ],
   "source": [
    "compute_series_para.spectra_H2(298, 3, 3, 3, bp.sumofstate_H2(298))"
   ]
  },
  {
   "cell_type": "markdown",
   "metadata": {},
   "source": [
    "## Check depolarization ratio"
   ]
  },
  {
   "cell_type": "markdown",
   "metadata": {},
   "source": [
    "## H2"
   ]
  },
  {
   "cell_type": "code",
   "execution_count": 31,
   "metadata": {},
   "outputs": [
    {
     "name": "stdout",
     "output_type": "stream",
     "text": [
      "[ 0.75        0.75        0.01249878  0.01325983  0.0183262  -0.\n",
      "  0.75        0.75        0.75        0.75      ]\n"
     ]
    }
   ],
   "source": [
    "perp = compute_series_perp.spectra_H2(298, 3, 3, 3, bp.sumofstate_H2(298))\n",
    "para = compute_series_para.spectra_H2(298, 3, 3, 3, bp.sumofstate_H2(298))\n",
    "\n",
    "dep_ratio = perp[:,2]/para[:,2]\n",
    "\n",
    "print(dep_ratio)"
   ]
  },
  {
   "cell_type": "markdown",
   "metadata": {},
   "source": [
    "---\n",
    "\n",
    "## HD"
   ]
  },
  {
   "cell_type": "code",
   "execution_count": 32,
   "metadata": {},
   "outputs": [
    {
     "name": "stdout",
     "output_type": "stream",
     "text": [
      "[ 0.75        0.75        0.01224844  0.01302144  0.01802445 -0.\n",
      "  0.75        0.75        0.75        0.75      ]\n"
     ]
    }
   ],
   "source": [
    "perpHD = compute_series_perp.spectra_HD(298, 3, 3, 3, bp.sumofstate_HD(298))\n",
    "paraHD = compute_series_para.spectra_HD(298, 3, 3, 3, bp.sumofstate_HD(298))\n",
    "\n",
    "dep_ratioHD = perpHD[:,2]/paraHD[:,2]\n",
    "\n",
    "print(dep_ratioHD)"
   ]
  },
  {
   "cell_type": "markdown",
   "metadata": {},
   "source": [
    "---\n",
    "\n",
    "## D2"
   ]
  },
  {
   "cell_type": "code",
   "execution_count": 33,
   "metadata": {},
   "outputs": [
    {
     "name": "stdout",
     "output_type": "stream",
     "text": [
      "[ 0.75        0.75        0.01196358  0.01274606  0.01767113 -0.\n",
      "  0.75        0.75        0.75        0.75      ]\n"
     ]
    }
   ],
   "source": [
    "perpD2 = compute_series_perp.spectra_D2(298, 3, 3, 3, bp.sumofstate_D2(298))\n",
    "paraD2 = compute_series_para.spectra_D2(298, 3, 3, 3, bp.sumofstate_D2(298))\n",
    "\n",
    "dep_ratioD2 = perpD2[:,2]/paraD2[:,2]\n",
    "\n",
    "print(dep_ratioD2)"
   ]
  },
  {
   "cell_type": "code",
   "execution_count": 34,
   "metadata": {},
   "outputs": [
    {
     "name": "stdout",
     "output_type": "stream",
     "text": [
      "[ 0.00512214  0.01234212  0.00437237  0.01566177  0.01162002 -0.\n",
      "  0.02277271  0.01416218  0.02101441  0.00533124]\n"
     ]
    }
   ],
   "source": [
    "print(perpD2[:,2])"
   ]
  },
  {
   "cell_type": "code",
   "execution_count": 35,
   "metadata": {},
   "outputs": [
    {
     "name": "stdout",
     "output_type": "stream",
     "text": [
      "[0.00682953 0.01645616 0.36547351 1.2287542  0.65757083 0.57017078\n",
      " 0.03036361 0.01888291 0.02801921 0.00710832]\n"
     ]
    }
   ],
   "source": [
    "print(paraD2[:,2])"
   ]
  },
  {
   "cell_type": "code",
   "execution_count": null,
   "metadata": {},
   "outputs": [],
   "source": []
  }
 ],
 "metadata": {
  "kernelspec": {
   "display_name": "Python 3",
   "language": "python",
   "name": "python3"
  },
  "language_info": {
   "codemirror_mode": {
    "name": "ipython",
    "version": 3
   },
   "file_extension": ".py",
   "mimetype": "text/x-python",
   "name": "python",
   "nbconvert_exporter": "python",
   "pygments_lexer": "ipython3",
   "version": "3.5.6"
  }
 },
 "nbformat": 4,
 "nbformat_minor": 4
}
