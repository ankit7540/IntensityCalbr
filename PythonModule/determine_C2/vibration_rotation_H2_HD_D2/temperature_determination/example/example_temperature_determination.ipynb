{
 "cells": [
  {
   "cell_type": "markdown",
   "metadata": {},
   "source": [
    "## Module for determining temperature from experimental Raman intensities of the vibration-rotation bands of H2, HD and D2\n",
    "\n"
   ]
  },
  {
   "cell_type": "markdown",
   "metadata": {},
   "source": [
    "This module requires edits to be made earlier in order, i) to load experimental data, ii) choose the specific residual function."
   ]
  },
  {
   "cell_type": "code",
   "execution_count": null,
   "metadata": {},
   "outputs": [],
   "source": []
  },
  {
   "cell_type": "code",
   "execution_count": 1,
   "metadata": {},
   "outputs": [
    {
     "name": "stdout",
     "output_type": "stream",
     "text": [
      "Dimension of input data of Q bands\n",
      "\t (5, 2)\n",
      "\t (4, 2)\n",
      "\t (3, 2)\n",
      "\t (3, 2)\n",
      "\t (5, 2)\n",
      "\t (2,)\n",
      "\t**********************************************************\n",
      "\t \n",
      "\t This module is for determining the temperature from \n",
      "\t observed vibration-rotation Raman intensities of H2, HD and D2. \n",
      "\t  This module is useful for testing the accuracy of the intensity \n",
      "\t  calibration procedure. \n",
      "\n",
      "\t >> Ratios of all observed Raman intensities are treated here as a matrix. << \n",
      "\n",
      "\t >> This function deals with parallel polarized intensities. << \n",
      "\n",
      "\t >> Temperature is the only fit parameter here << \n",
      "\n",
      "\t This modeule requires edit on line 32 to 74 to \n",
      "\n",
      "\t  load and set parameters for the analysis.\n",
      "\t \n",
      "\t**********************************************************\n",
      "\n",
      "\t\t Checking imported data and set params\n",
      "\t\t  dataH2Q found, OK\n",
      "\t\t  dataHDQ found, OK\n",
      "\t\t  dataD2Q found, OK\n",
      "\n",
      "\t\t  Analysis parameters:\n",
      "\t\t Norm (defn of residual):  Frobenius\n",
      "\t**********************************************************\n",
      "\n",
      "\t REQUIRED DATA\n",
      "\t\t\t Ramanshift = vector, the x-axis in relative wavenumbers\n",
      "\t\t\t band area and error = 2D (2 columns), for H2, HD and D2\n",
      "\n",
      "\t\t\t J_max = scalar, for H2, HD and D2 (to compute reference\n",
      "\t\t\t\t    spectra), See residual functions\n",
      "\t**********************************************************\n",
      "\n",
      "\t\t\t  Example:\n",
      "\t\t\t  run_fit_D2_O2S0 (298 )\n",
      "\t**********************************************************\n"
     ]
    }
   ],
   "source": [
    "import T_determn_parallel"
   ]
  },
  {
   "cell_type": "code",
   "execution_count": 2,
   "metadata": {},
   "outputs": [
    {
     "name": "stdout",
     "output_type": "stream",
     "text": [
      "[('clean_mat', <function clean_mat at 0x146cab258950>),\n",
      " ('gen_intensity_mat', <function gen_intensity_mat at 0x146cab258f28>),\n",
      " ('gen_weight', <function gen_weight at 0x146cab2589d8>),\n",
      " ('inverse', <function inverse at 0x146cab258ae8>),\n",
      " ('inverse_square', <function inverse_square at 0x146cab258a60>),\n",
      " ('residual_O2S0_D2', <function residual_O2S0_D2 at 0x146cab258598>),\n",
      " ('residual_Q_D2', <function residual_Q_D2 at 0x146cab258b70>),\n",
      " ('residual_Q_D2_234', <function residual_Q_D2_234 at 0x146cab258bf8>),\n",
      " ('residual_Q_H2', <function residual_Q_H2 at 0x146cab258d08>),\n",
      " ('residual_Q_HD', <function residual_Q_HD at 0x146cab258c80>),\n",
      " ('residual_Q_test', <function residual_Q_test at 0x146cab25bf28>),\n",
      " ('run_fit_D2', <function run_fit_D2 at 0x146cab258620>),\n",
      " ('run_fit_D2_234', <function run_fit_D2_234 at 0x146cab258730>),\n",
      " ('run_fit_D2_O2S0', <function run_fit_D2_O2S0 at 0x146cab2587b8>),\n",
      " ('run_fit_H2', <function run_fit_H2 at 0x146cab258e18>),\n",
      " ('run_fit_HD', <function run_fit_HD at 0x146cab258d90>),\n",
      " ('test', <function test at 0x146cab25bea0>)]\n"
     ]
    }
   ],
   "source": [
    "# listing all available functions\n",
    "\n",
    "from inspect import getmembers, isfunction\n",
    "import pprint\n",
    "    \n",
    "functions_list = getmembers(T_determn_parallel, isfunction)\n",
    "pprint.pprint(functions_list)"
   ]
  },
  {
   "cell_type": "code",
   "execution_count": 3,
   "metadata": {},
   "outputs": [
    {
     "data": {
      "text/plain": [
       "0.104661160665615"
      ]
     },
     "execution_count": 3,
     "metadata": {},
     "output_type": "execute_result"
    }
   ],
   "source": [
    "## testing \n",
    "\n",
    "T_determn_parallel.residual_Q_D2( 255 )"
   ]
  },
  {
   "cell_type": "code",
   "execution_count": 4,
   "metadata": {},
   "outputs": [
    {
     "name": "stdout",
     "output_type": "stream",
     "text": [
      "**********************************************************\n",
      "\t\t -- Temperature determination -- \n",
      "\t\tNorm (defn of residual):  Frobenius\n",
      "Initial coef :  T=298,   output = 0.00390149272677038\n",
      "\n",
      "Optimization run: D2     \n",
      "\n",
      " final_simplex: (array([[300.07824169],\n",
      "       [300.0782417 ]]), array([0.00011041, 0.00011041]))\n",
      "           fun: 0.00011041339779366796\n",
      "       message: 'Optimization terminated successfully.'\n",
      "          nfev: 75\n",
      "           nit: 36\n",
      "        status: 0\n",
      "       success: True\n",
      "             x: array([300.07824169])\n",
      "\n",
      "Optimized result : T=300.078242  \n",
      "\n",
      "**********************************************************\n"
     ]
    },
    {
     "data": {
      "text/plain": [
       "0.00011041339779366796"
      ]
     },
     "execution_count": 4,
     "metadata": {},
     "output_type": "execute_result"
    }
   ],
   "source": [
    "T_determn_parallel.run_fit_D2( 298 )"
   ]
  },
  {
   "cell_type": "code",
   "execution_count": 5,
   "metadata": {},
   "outputs": [
    {
     "name": "stdout",
     "output_type": "stream",
     "text": [
      "**********************************************************\n",
      "\t\t -- Temperature determination -- \n",
      "\t\tNorm (defn of residual):  Frobenius\n",
      "Initial coef :  T=300,   output = 1.3929820878656085e-05\n",
      "\n",
      "Optimization run: D2, O2S0     \n",
      "\n",
      " final_simplex: (array([[297.61900702],\n",
      "       [297.61900701]]), array([1.02805142e-25, 1.11171467e-24]))\n",
      "           fun: 1.0280514202930748e-25\n",
      "       message: 'Optimization terminated successfully.'\n",
      "          nfev: 70\n",
      "           nit: 35\n",
      "        status: 0\n",
      "       success: True\n",
      "             x: array([297.61900702])\n",
      "\n",
      "Optimized result : T=297.619007  \n",
      "\n",
      "**********************************************************\n"
     ]
    },
    {
     "data": {
      "text/plain": [
       "1.0280514202930748e-25"
      ]
     },
     "execution_count": 5,
     "metadata": {},
     "output_type": "execute_result"
    }
   ],
   "source": [
    "T_determn_parallel.run_fit_D2_O2S0( 300 )"
   ]
  },
  {
   "cell_type": "code",
   "execution_count": null,
   "metadata": {},
   "outputs": [],
   "source": []
  },
  {
   "cell_type": "code",
   "execution_count": 6,
   "metadata": {},
   "outputs": [
    {
     "name": "stdout",
     "output_type": "stream",
     "text": [
      "['__builtins__',\n",
      " '__cached__',\n",
      " '__doc__',\n",
      " '__file__',\n",
      " '__loader__',\n",
      " '__name__',\n",
      " '__package__',\n",
      " '__spec__',\n",
      " 'bp',\n",
      " 'clean_mat',\n",
      " 'compute_series_para',\n",
      " 'dataD2OS',\n",
      " 'dataD2Q',\n",
      " 'dataD2Q4',\n",
      " 'dataD2_Q2',\n",
      " 'dataH2Q',\n",
      " 'dataHDQ',\n",
      " 'data_error',\n",
      " 'datetime',\n",
      " 'fileh',\n",
      " 'formatter',\n",
      " 'gen_intensity_mat',\n",
      " 'gen_weight',\n",
      " 'inverse',\n",
      " 'inverse_square',\n",
      " 'log',\n",
      " 'logger',\n",
      " 'logging',\n",
      " 'math',\n",
      " 'norm',\n",
      " 'np',\n",
      " 'opt',\n",
      " 'os',\n",
      " 'plt',\n",
      " 'residual_O2S0_D2',\n",
      " 'residual_Q_D2',\n",
      " 'residual_Q_D2_234',\n",
      " 'residual_Q_H2',\n",
      " 'residual_Q_HD',\n",
      " 'residual_Q_test',\n",
      " 'run_fit_D2',\n",
      " 'run_fit_D2_234',\n",
      " 'run_fit_D2_O2S0',\n",
      " 'run_fit_H2',\n",
      " 'run_fit_HD',\n",
      " 'sys',\n",
      " 'temp_init',\n",
      " 'test']\n"
     ]
    }
   ],
   "source": [
    "# listing all available variables and functions \n",
    "\n",
    "pprint.pprint(dir(T_determn_parallel))"
   ]
  },
  {
   "cell_type": "code",
   "execution_count": null,
   "metadata": {},
   "outputs": [],
   "source": []
  },
  {
   "cell_type": "markdown",
   "metadata": {},
   "source": [
    "---\n",
    "\n",
    "## Perpendicularly polarized Raman intensities\n",
    "\n",
    "Perpendicular polarization defined relative to the incident linearly polarized laser beam.\n",
    "\n",
    "\n",
    " - <i> Care must be taken that the Q(J=0) is theoretically zero. </i> To tackle this, in the computed data Q(J=0) is removed. The experimental data for this transition is also not included."
   ]
  },
  {
   "cell_type": "code",
   "execution_count": 7,
   "metadata": {},
   "outputs": [
    {
     "name": "stdout",
     "output_type": "stream",
     "text": [
      "Dimension of input data of Q bands\n",
      "\t (5, 2)\n",
      "\t (4, 2)\n",
      "\t (3, 2)\n",
      "\t**********************************************************\n",
      "\t \n",
      "\t This module is for determining the temperature from \n",
      "\t observed vibration-rotation Raman intensities of H2, HD and D2. \n",
      "\t  This module is useful for testing the accuracy of the intensity \n",
      "\t  calibration procedure. \n",
      "\n",
      "\t >> Ratios of all observed Raman intensities are treated here as a matrix. << \n",
      "\n",
      "\t >> This function deals with perpendicularly polarized Raman intensities. << \n",
      "\n",
      "\t >> Temperature is the only fit parameter here << \n",
      "\n",
      "\t This modeule requires edit on line 32 to 74 to \n",
      "\n",
      "\t  load and set parameters for the analysis.\n",
      "\t \n",
      "\t**********************************************************\n",
      "\n",
      "\t\t Checking imported data and set params\n",
      "\t\t  dataH2Q found, OK\n",
      "\t\t  dataHDQ found, OK\n",
      "\t\t  dataD2Q found, OK\n",
      "\n",
      "\t\t  Analysis parameters:\n",
      "\t\t Norm (defn of residual):  Frobenius\n",
      "\t**********************************************************\n",
      "\n",
      "\t REQUIRED DATA\n",
      "\t\t\t Ramanshift = vector, the x-axis in relative wavenumbers\n",
      "\t\t\t band area and error = 2D (2 columns), for H2, HD and D2\n",
      "\n",
      "\t\t\t J_max = scalar, for H2, HD and D2 (to compute reference\n",
      "\t\t\t\t    spectra), See residual functions\n",
      "\t**********************************************************\n",
      "\n",
      "\t\t\t  Example:\n",
      "\t\t\t  run_fit_D2_O2S0 (298 )\n",
      "\t**********************************************************\n"
     ]
    }
   ],
   "source": [
    "import T_determn_perpendicular"
   ]
  },
  {
   "cell_type": "code",
   "execution_count": 8,
   "metadata": {},
   "outputs": [
    {
     "data": {
      "text/plain": [
       "1.0659344452609743"
      ]
     },
     "execution_count": 8,
     "metadata": {},
     "output_type": "execute_result"
    }
   ],
   "source": [
    "# testing residual function\n",
    "\n",
    "T_determn_perpendicular.residual_Q_D2( 325)"
   ]
  },
  {
   "cell_type": "code",
   "execution_count": 9,
   "metadata": {},
   "outputs": [
    {
     "name": "stdout",
     "output_type": "stream",
     "text": [
      "**********************************************************\n",
      "\t\t -- Temperature determination -- \n",
      "\t\tNorm (defn of residual):  Frobenius\n",
      "Initial coef :  T=325,   output = 1.0659344452609743\n",
      "\n",
      "Optimization run: D2     \n",
      "\n",
      " final_simplex: (array([[296.76686178],\n",
      "       [296.76686177]]), array([0.00261198, 0.00261198]))\n",
      "           fun: 0.0026119813973771466\n",
      "       message: 'Optimization terminated successfully.'\n",
      "          nfev: 79\n",
      "           nit: 38\n",
      "        status: 0\n",
      "       success: True\n",
      "             x: array([296.76686178])\n",
      "\n",
      "Optimized result : T=296.766862  \n",
      "\n",
      "**********************************************************\n"
     ]
    },
    {
     "data": {
      "text/plain": [
       "0.0026119813973771466"
      ]
     },
     "execution_count": 9,
     "metadata": {},
     "output_type": "execute_result"
    }
   ],
   "source": [
    "T_determn_perpendicular.run_fit_D2( 325 )"
   ]
  },
  {
   "cell_type": "code",
   "execution_count": null,
   "metadata": {},
   "outputs": [],
   "source": []
  },
  {
   "cell_type": "code",
   "execution_count": null,
   "metadata": {},
   "outputs": [],
   "source": []
  }
 ],
 "metadata": {
  "kernelspec": {
   "display_name": "Python 3",
   "language": "python",
   "name": "python3"
  },
  "language_info": {
   "codemirror_mode": {
    "name": "ipython",
    "version": 3
   },
   "file_extension": ".py",
   "mimetype": "text/x-python",
   "name": "python",
   "nbconvert_exporter": "python",
   "pygments_lexer": "ipython3",
   "version": "3.5.6"
  }
 },
 "nbformat": 4,
 "nbformat_minor": 4
}
