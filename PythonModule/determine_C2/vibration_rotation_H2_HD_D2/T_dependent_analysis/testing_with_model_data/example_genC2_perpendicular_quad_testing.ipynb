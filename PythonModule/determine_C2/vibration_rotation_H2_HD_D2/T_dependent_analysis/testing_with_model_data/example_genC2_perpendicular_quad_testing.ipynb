{
 "cells": [
  {
   "cell_type": "markdown",
   "metadata": {},
   "source": [
    "# Module `genC2_PR_T_dep_perp_quad` is loaded below \n",
    "\n",
    "##  Model data is loaded before this import\n",
    "\n"
   ]
  },
  {
   "cell_type": "markdown",
   "metadata": {},
   "source": [
    "---\n",
    "\n",
    "*Model coefficient :*\n",
    "\n",
    "Temperature = 299 K\n",
    "\n",
    "\n",
    "c1 = 0.045\n",
    "\n",
    "c2 = -0.0150\n",
    "\n",
    "---"
   ]
  },
  {
   "cell_type": "code",
   "execution_count": 1,
   "metadata": {},
   "outputs": [
    {
     "name": "stdout",
     "output_type": "stream",
     "text": [
      "\t\t -- TEST SCRIPT --\n",
      "\t\t Loaded files:\n",
      "\t\t\t H2 : model_H2_perp_quadratic.exp\n",
      "\t\t\t HD : model_HD_perp_quadratic.exp\n",
      "\t\t\t D2 : model_D2_perp_quadratic.exp\n",
      "\t\t ---------------\n",
      "\n",
      "Dimension of input data\n",
      "\t (6, 2)\n",
      "\t (8, 2)\n",
      "\t (13, 2)\n",
      "\t**********************************************************\n",
      "\t \n",
      "\t This module is for generating the wavenumber-dependent\n",
      "\t intensity correction curve termed as C2 from \n",
      "\t  experimental Raman intensities using intensity ratios \n",
      "\n",
      "\t >> Ratios of all observed Raman intensities are treated here. << \n",
      "\n",
      "\t >> Parallel polarized Raman intensities (relative to \n",
      "\t\t       incident linearly polarized beam)  << \n",
      "\n",
      "\t >> Temperature is a fit parameter << \n",
      "\n",
      "\t This modeule requires edit on line 17 to 54 to \n",
      "\n",
      "\t  load and set parameters for the analysis.\n",
      "\t \n",
      "\t**********************************************************\n",
      "\n",
      "\t\t Checking imported data and set params\n",
      "\t\t  dataH2 found, OK\n",
      "\t\t  dataHD found, OK\n",
      "\t\t  dataD2 found, OK\n",
      "\t\t  xaxis found, OK\n",
      "\n",
      "\t\t  Analysis parameters:\n",
      "\t\t scaling factors (for c1 to c3) 100 10000 1000000\n",
      "\t\t Norm (defn of residual):  FS\n",
      "\t**********************************************************\n",
      "\n",
      "\t REQUIRED DATA\n",
      "\t\t\t Ramanshift = vector, the x-axis in relative wavenumbers\n",
      "\t\t\t band area and error = 2D (2 columns), for H2, HD and D2\n",
      "\n",
      "\t\t\t J_max = scalar, for H2, HD and D2 (to compute reference spectra)\n",
      "\t**********************************************************\n",
      "\n",
      "\t\t\t  Example:\n",
      "\t\t\t  run_fit_linear (  300 , 0.0 )\n",
      "\t\t\t  run_fit_quadratic ( 300 , 0.05 ,0.02 )\n",
      "\t**********************************************************\n",
      "\t Printing dimensions of computed and loaded data\n",
      "\t H2 :  (6, 4) (6, 2)\n",
      "\t HD :  (8, 4) (8, 2)\n",
      "\t D2 :  (13, 4) (13, 2)\n",
      "Value of residuals with default coefs are\n",
      "\t linear \t: 3.47263533418582\n",
      "\t quadratic \t: 3.0948694332512776\n",
      "\t cubic  \t: 122.44587540556356\n",
      "\t quartic \t: 122.44587540556356\n",
      "\t quintuple \t: 122.44587540556356\n"
     ]
    }
   ],
   "source": [
    "# define the data files to be loaded in the script before importing\n",
    "import numpy as np\n",
    "import genC2_PR_T_dep_perp_quad"
   ]
  },
  {
   "cell_type": "code",
   "execution_count": null,
   "metadata": {},
   "outputs": [],
   "source": []
  },
  {
   "cell_type": "code",
   "execution_count": 2,
   "metadata": {},
   "outputs": [
    {
     "name": "stdout",
     "output_type": "stream",
     "text": [
      "**********************************************************\n",
      "Initial coef :  T=299, k1=-1.045 output = 910.3448396029729\n",
      "\n",
      "Optimization run: Linear     \n",
      "\n",
      " final_simplex: (array([[279.27835445,  -0.56633842],\n",
      "       [279.27835445,  -0.56633842],\n",
      "       [279.27835445,  -0.56633842]]), array([274.9447309, 274.9447309, 274.9447309]))\n",
      "           fun: 274.9447309008309\n",
      "       message: 'Optimization terminated successfully.'\n",
      "          nfev: 169\n",
      "           nit: 78\n",
      "        status: 0\n",
      "       success: True\n",
      "             x: array([279.27835445,  -0.56633842])\n",
      "\n",
      "Optimized result : T=279.27835445, k1=-0.00566338 \n",
      "\n",
      "**********************************************************\n"
     ]
    },
    {
     "data": {
      "text/plain": [
       "274.9447309008309"
      ]
     },
     "execution_count": 2,
     "metadata": {},
     "output_type": "execute_result"
    }
   ],
   "source": [
    "# Running fitting for linear model\n",
    "\n",
    "genC2_PR_T_dep_perp_quad.run_fit_linear( 299, -1.045)"
   ]
  },
  {
   "cell_type": "code",
   "execution_count": 3,
   "metadata": {},
   "outputs": [
    {
     "name": "stdout",
     "output_type": "stream",
     "text": [
      "**********************************************************\n",
      "Initial coef :  T=299, k1=-0.285, k2=0.052 output = 75.01440207662652\n",
      "\n",
      "Optimization run: Quadratic     \n",
      "\n",
      " final_simplex: (array([[ 2.99e+02,  4.50e-03, -1.50e-04],\n",
      "       [ 2.99e+02,  4.50e-03, -1.50e-04],\n",
      "       [ 2.99e+02,  4.50e-03, -1.50e-04],\n",
      "       [ 2.99e+02,  4.50e-03, -1.50e-04]]), array([1.15174828e-21, 3.14751506e-21, 3.26415705e-21, 3.43831933e-21]))\n",
      "           fun: 1.1517482839807256e-21\n",
      "       message: 'Optimization terminated successfully.'\n",
      "          nfev: 294\n",
      "           nit: 158\n",
      "        status: 0\n",
      "       success: True\n",
      "             x: array([ 2.99e+02,  4.50e-03, -1.50e-04])\n",
      "\n",
      "Optimized result : T=299.0, k1=4.5e-05, k2=-0.0 \n",
      "\n",
      "**********************************************************\n"
     ]
    },
    {
     "data": {
      "text/plain": [
       "1.1517482839807256e-21"
      ]
     },
     "execution_count": 3,
     "metadata": {},
     "output_type": "execute_result"
    }
   ],
   "source": [
    "# # Running fitting for quadratic model\n",
    "\n",
    "genC2_PR_T_dep_perp_quad.run_fit_quadratic( 299, -0.285, 0.052)"
   ]
  },
  {
   "cell_type": "code",
   "execution_count": 4,
   "metadata": {},
   "outputs": [
    {
     "name": "stdout",
     "output_type": "stream",
     "text": [
      "**********************************************************\n",
      "Initial coef :  T=299, k1=-0.285, k2=0.052, k3=0.0, output = 75.01440207662652\n",
      "\n",
      "Optimization run : Cubic     \n",
      "\n",
      " final_simplex: (array([[ 2.99000000e+02,  4.50000000e-03, -1.50000000e-04,\n",
      "         2.58980714e-14],\n",
      "       [ 2.99000000e+02,  4.50000000e-03, -1.50000000e-04,\n",
      "         1.66980859e-14],\n",
      "       [ 2.99000000e+02,  4.50000000e-03, -1.50000000e-04,\n",
      "        -2.73421406e-14],\n",
      "       [ 2.99000000e+02,  4.50000000e-03, -1.50000000e-04,\n",
      "         4.23225154e-14],\n",
      "       [ 2.99000000e+02,  4.50000000e-03, -1.50000000e-04,\n",
      "        -4.66251818e-15]]), array([4.94466446e-21, 7.51408713e-21, 1.01093512e-20, 1.05654293e-20,\n",
      "       1.11064659e-20]))\n",
      "           fun: 4.944664462547079e-21\n",
      "       message: 'Optimization terminated successfully.'\n",
      "          nfev: 551\n",
      "           nit: 323\n",
      "        status: 0\n",
      "       success: True\n",
      "             x: array([ 2.99000000e+02,  4.50000000e-03, -1.50000000e-04,  2.58980714e-14])\n",
      "\n",
      "Optimized result : T=299.0, k1=4.5e-05, k2=-0.0, k3=0.0 \n",
      "\n",
      "**********************************************************\n"
     ]
    },
    {
     "data": {
      "text/plain": [
       "4.944664462547079e-21"
      ]
     },
     "execution_count": 4,
     "metadata": {},
     "output_type": "execute_result"
    }
   ],
   "source": [
    "# # Running fitting for cubic model\n",
    "\n",
    "genC2_PR_T_dep_perp_quad.run_fit_cubic( 299, -0.285, 0.052, 0.0)"
   ]
  },
  {
   "cell_type": "markdown",
   "metadata": {},
   "source": [
    "---\n"
   ]
  },
  {
   "cell_type": "code",
   "execution_count": 5,
   "metadata": {},
   "outputs": [
    {
     "name": "stdout",
     "output_type": "stream",
     "text": [
      "[2281.1594 2282.5403 2283.9231 ... 4215.3828 4216.4424 4217.5029]\n"
     ]
    }
   ],
   "source": [
    "print(genC2_PR_T_dep_perp_quad.xaxis)"
   ]
  },
  {
   "cell_type": "code",
   "execution_count": 6,
   "metadata": {},
   "outputs": [
    {
     "name": "stdout",
     "output_type": "stream",
     "text": [
      "[-1035.1406 -1033.7597 -1032.3769 ...   899.0828   900.1424   901.2029]\n"
     ]
    }
   ],
   "source": [
    "print(genC2_PR_T_dep_perp_quad.xaxis - genC2_PR_T_dep_perp_quad.scenter )"
   ]
  },
  {
   "cell_type": "code",
   "execution_count": 39,
   "metadata": {},
   "outputs": [
    {
     "name": "stdout",
     "output_type": "stream",
     "text": [
      "100\n"
     ]
    }
   ],
   "source": [
    "scaled_xaxis = (genC2_PR_T_dep_perp_quad.xaxis - genC2_PR_T_dep_perp_quad.scenter ) \n",
    "\n",
    "\n",
    "maxV=  np.abs(scaled_xaxis).max()\n",
    "\n",
    "magn = genC2_PR_T_dep_perp_quad.orderOfMagnitude(np.amax(scaled_xaxis))\n",
    "\n",
    "print(10**magn)"
   ]
  },
  {
   "cell_type": "code",
   "execution_count": 40,
   "metadata": {},
   "outputs": [
    {
     "name": "stdout",
     "output_type": "stream",
     "text": [
      "[-10.351406 -10.337597 -10.323769 ...   8.990828   9.001424   9.012029] (1600,)\n"
     ]
    }
   ],
   "source": [
    "sc=scaled_xaxis / (10**magn)\n",
    "\n",
    "print(sc, sc.shape)"
   ]
  },
  {
   "cell_type": "code",
   "execution_count": 41,
   "metadata": {},
   "outputs": [
    {
     "name": "stdout",
     "output_type": "stream",
     "text": [
      "100 10000 1000000\n"
     ]
    }
   ],
   "source": [
    "print(genC2_PR_T_dep_perp_quad.scale1, genC2_PR_T_dep_perp_quad.scale2,genC2_PR_T_dep_perp_quad.scale3)"
   ]
  },
  {
   "cell_type": "markdown",
   "metadata": {},
   "source": [
    "---"
   ]
  },
  {
   "cell_type": "code",
   "execution_count": null,
   "metadata": {},
   "outputs": [],
   "source": []
  }
 ],
 "metadata": {
  "kernelspec": {
   "display_name": "Python 3",
   "language": "python",
   "name": "python3"
  },
  "language_info": {
   "codemirror_mode": {
    "name": "ipython",
    "version": 3
   },
   "file_extension": ".py",
   "mimetype": "text/x-python",
   "name": "python",
   "nbconvert_exporter": "python",
   "pygments_lexer": "ipython3",
   "version": "3.5.6"
  }
 },
 "nbformat": 4,
 "nbformat_minor": 4
}
