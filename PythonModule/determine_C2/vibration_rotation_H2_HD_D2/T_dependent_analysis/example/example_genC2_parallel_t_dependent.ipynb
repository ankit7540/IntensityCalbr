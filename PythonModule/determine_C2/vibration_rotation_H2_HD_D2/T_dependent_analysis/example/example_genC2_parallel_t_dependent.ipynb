{
 "cells": [
  {
   "cell_type": "markdown",
   "metadata": {},
   "source": [
    "# Generate $C_2$ from vibration-rotation Raman intensities of $H_{2}$, $HD$ and $D_{2}$\n",
    "\n",
    "\n",
    "## >> temperaure is a fit variable here <<\n",
    "\n",
    "\n",
    "## Parallel polarized"
   ]
  },
  {
   "cell_type": "markdown",
   "metadata": {},
   "source": [
    "## Module `genC2_VR_T_dep_para`\n",
    "\n",
    "####  Experimental data with corresponding error for H2, HD and D2\n",
    "\n",
    "| band_area                  | error |\n",
    "|----------------------------|-------|\n",
    "| Area for J_max(antiStokes) | err   |\n",
    "| ...                        | ...   |\n",
    "| ...                        | ...   |\n",
    "| Area for J_max (Stokes)    | err   |\n",
    "\n",
    "Experimental data is in the form of the 2D array : The first column has the band area, while the second column has the error.\n",
    "\n",
    "The first row has the data for the highest J anti-Stokes band. Following rows contain the area as we move to higher wavenumbers. (This arrangement is strictly required since corresponding reference data is generated in the same order).\n",
    "\n",
    "#### J_max indices for the band area :\n",
    "In order for `compute_series_para` program to generate the band area for the same set as the experimental data, the correct J_max value must be supplied in the beginning section of the `genC2_CR_para` program.\n",
    "\n",
    "This block is given below:\n"
   ]
  },
  {
   "cell_type": "code",
   "execution_count": 1,
   "metadata": {},
   "outputs": [
    {
     "name": "stdout",
     "output_type": "stream",
     "text": [
      "Dimension of input data\n",
      "\t (7, 2)\n",
      "\t (9, 2)\n",
      "\t (14, 2)\n",
      "\t**********************************************************\n",
      "\t \n",
      "\t This module is for generating the wavenumber-dependent\n",
      "\t intensity correction curve termed as C2 from \n",
      "\t  experimental Raman intensities using intensity ratios \n",
      "\n",
      "\t >> Ratios of all observed Raman intensities are treated here. << \n",
      "\n",
      "\t >> Parallel polarized Raman intensities (relative to \n",
      "\t\t       incident linearly polarized beam)  << \n",
      "\n",
      "\t >> Temperature is a fit parameter << \n",
      "\n",
      "\t This modeule requires edit on line 17 to 54 to \n",
      "\n",
      "\t  load and set parameters for the analysis.\n",
      "\t \n",
      "\t**********************************************************\n",
      "\n",
      "\t\t Checking imported data and set params\n",
      "\t\t  dataH2 found, OK\n",
      "\t\t  dataHD found, OK\n",
      "\t\t  dataD2 found, OK\n",
      "\t\t  xaxis found, OK\n",
      "\n",
      "\t\t  Analysis parameters:\n",
      "\t\t scaling factors (for c1 to c3) 100 10000 1000000\n",
      "\t\t Norm (defn of residual):  Frobenius\n",
      "\t**********************************************************\n",
      "\n",
      "\t REQUIRED DATA\n",
      "\t\t\t Ramanshift = vector, the x-axis in relative wavenumbers\n",
      "\t\t\t band area and error = 2D (2 columns), for H2, HD and D2\n",
      "\n",
      "\t\t\t J_max = scalar, for H2, HD and D2 (to compute reference spectra)\n",
      "\t**********************************************************\n",
      "\n",
      "\t\t\t  Example:\n",
      "\t\t\t  run_fit_linear (  300 , 0.0 )\n",
      "\t\t\t  run_fit_quadratic ( 300 , 0.05 ,0.02 )\n",
      "\t**********************************************************\n",
      "(14, 4) (14, 2)\n",
      "(7, 4) (7, 2)\n",
      "(9, 4) (9, 2)\n",
      "Value of residuals with default coefs are\n",
      "\t linear \t: 1.4661646407794167\n",
      "\t quadratic \t: 1.5372166733771016\n",
      "\t cubic  \t: 13.022445329222485\n",
      "\t quartic \t: 13.022445329222485\n",
      "\t quintuple \t: 13.022445329222485\n"
     ]
    }
   ],
   "source": [
    "# define the data files to be loaded in the script before importing\n",
    "\n",
    "import genC2_VR_T_dep_para"
   ]
  },
  {
   "cell_type": "code",
   "execution_count": 2,
   "metadata": {},
   "outputs": [],
   "source": [
    "# Running fitting for linear model"
   ]
  },
  {
   "cell_type": "code",
   "execution_count": 3,
   "metadata": {},
   "outputs": [
    {
     "name": "stdout",
     "output_type": "stream",
     "text": [
      "**********************************************************\n",
      "\t\t -- Linear fit -- \n",
      "\t\tNorm (defn of residual):  Frobenius\n",
      "Initial coef :  T=296, k1=-0.6 output = 21.366884394559804\n",
      "\n",
      "Optimization run: Linear     \n",
      "\n",
      " final_simplex: (array([[282.79623615,  -0.58098725],\n",
      "       [282.79623615,  -0.58098725],\n",
      "       [282.79623616,  -0.58098725]]), array([21.19718988, 21.19718988, 21.19718988]))\n",
      "           fun: 21.197189877217696\n",
      "       message: 'Optimization terminated successfully.'\n",
      "          nfev: 149\n",
      "           nit: 68\n",
      "        status: 0\n",
      "       success: True\n",
      "             x: array([282.79623615,  -0.58098725])\n",
      "\n",
      "Optimized result : T=282.796236, k1=-0.580987 \n",
      "\n",
      "**********************************************************\n"
     ]
    },
    {
     "data": {
      "text/plain": [
       "21.197189877217696"
      ]
     },
     "execution_count": 3,
     "metadata": {},
     "output_type": "execute_result"
    }
   ],
   "source": [
    "genC2_VR_T_dep_para.run_fit_linear(296,  -0.6 )\n",
    "\n",
    "# function returns the residual value\n"
   ]
  },
  {
   "cell_type": "code",
   "execution_count": 4,
   "metadata": {},
   "outputs": [
    {
     "name": "stdout",
     "output_type": "stream",
     "text": [
      "**********************************************************\n",
      "\t\t -- Quadratic fit -- \n",
      "\t\tNorm (defn of residual):  Frobenius\n",
      "Initial coef :  T=296, k1=-0.6, k2=0.001 output = 21.203749762202275\n",
      "\n",
      "Optimization run: Quadratic     \n",
      "\n",
      " final_simplex: (array([[ 2.81871031e+02, -6.02216754e-01,  5.53889654e-02],\n",
      "       [ 2.81871031e+02, -6.02216754e-01,  5.53889654e-02],\n",
      "       [ 2.81871031e+02, -6.02216754e-01,  5.53889654e-02],\n",
      "       [ 2.81871031e+02, -6.02216754e-01,  5.53889654e-02]]), array([9.41485442, 9.41485442, 9.41485442, 9.41485442]))\n",
      "           fun: 9.41485442194637\n",
      "       message: 'Optimization terminated successfully.'\n",
      "          nfev: 347\n",
      "           nit: 179\n",
      "        status: 0\n",
      "       success: True\n",
      "             x: array([ 2.81871031e+02, -6.02216754e-01,  5.53889654e-02])\n",
      "\n",
      "Optimized result : T=281.871031, k1=-0.602217, k2=0.055389 \n",
      "\n",
      "**********************************************************\n"
     ]
    },
    {
     "data": {
      "text/plain": [
       "9.41485442194637"
      ]
     },
     "execution_count": 4,
     "metadata": {},
     "output_type": "execute_result"
    }
   ],
   "source": [
    "genC2_VR_T_dep_para.run_fit_quadratic(296,  -0.6 , 0.001 )"
   ]
  },
  {
   "cell_type": "code",
   "execution_count": 5,
   "metadata": {},
   "outputs": [],
   "source": [
    "# J levels are defined for the O, Q and S bands\n",
    "\n",
    "\n",
    "OJ_H2 = 3\n",
    "QJ_H2 = 4\n",
    "\n",
    "OJ_HD = 3\n",
    "QJ_HD = 3\n",
    "SJ_HD = 2\n",
    "\n",
    "OJ_D2 = 4\n",
    "QJ_D2 = 6\n",
    "SJ_D2 = 3"
   ]
  },
  {
   "cell_type": "markdown",
   "metadata": {},
   "source": [
    "\n",
    "---\n",
    "\n",
    "\n",
    "### [See example](https://github.com/ankit7540/IntensityCalbr/blob/master/PythonModule/determine_C2/vibration_rotation_H2_HD_D2/common_rotational_state/Examples/example_compute_series.ipynb) for computation of reference Raman intensities for vibration-rotation transitions at a temperature."
   ]
  },
  {
   "cell_type": "code",
   "execution_count": 6,
   "metadata": {},
   "outputs": [
    {
     "name": "stdout",
     "output_type": "stream",
     "text": [
      "[[3.00000000e+00 3.18522300e+03 7.71333268e-03 1.56047620e+04]\n",
      " [2.00000000e+00 3.36509120e+03 1.36967880e-02 1.54248938e+04]\n",
      " [3.00000000e+00 3.60911310e+03 3.80203882e-01 1.51808719e+04]\n",
      " [2.00000000e+00 3.62061020e+03 9.65431551e-01 1.51693748e+04]\n",
      " [1.00000000e+00 3.62830440e+03 1.36412765e+00 1.51616806e+04]\n",
      " [0.00000000e+00 3.63216040e+03 6.79702367e-01 1.51578246e+04]\n",
      " [0.00000000e+00 3.88767940e+03 3.54957782e-02 1.49023056e+04]\n",
      " [1.00000000e+00 4.05219450e+03 3.73872312e-02 1.47377905e+04]\n",
      " [2.00000000e+00 4.20995900e+03 2.04598728e-02 1.45800260e+04]]\n",
      "(9, 4)\n"
     ]
    }
   ],
   "source": [
    "import compute_series_para\n",
    "import boltzmann_popln as bp\n",
    "\n",
    "\n",
    "# defining indices for the J_max for each transition\n",
    "OJ_H2 = 3\n",
    "QJ_H2 = 4\n",
    "\n",
    "OJ_HD = 3\n",
    "QJ_HD = 3\n",
    "SJ_HD = 2\n",
    "\n",
    "OJ_D2 = 4\n",
    "QJ_D2 = 6\n",
    "SJ_D2 = 3\n",
    "\n",
    "\n",
    "sHD=compute_series_para.spectra_HD(299, OJ_HD, QJ_HD, SJ_HD, bp.sumofstate_HD(299))\n",
    "print(sHD)\n",
    "print(sHD.shape)"
   ]
  },
  {
   "cell_type": "code",
   "execution_count": 7,
   "metadata": {},
   "outputs": [
    {
     "name": "stdout",
     "output_type": "stream",
     "text": [
      "[[4.00000000e+00 2.57264490e+03 6.84562667e-03 1.62173401e+04]\n",
      " [3.00000000e+00 2.69397320e+03 6.84706114e-03 1.60960118e+04]\n",
      " [2.00000000e+00 2.81455000e+03 1.64509938e-02 1.59754350e+04]\n",
      " [6.00000000e+00 2.94975880e+03 2.03550263e-02 1.58402262e+04]\n",
      " [5.00000000e+00 2.96219340e+03 4.57248215e-02 1.58277916e+04]\n",
      " [4.00000000e+00 2.97261410e+03 3.04296103e-01 1.58173709e+04]\n",
      " [3.00000000e+00 2.98098930e+03 3.66411922e-01 1.58089957e+04]\n",
      " [2.00000000e+00 2.98729340e+03 1.22836857e+00 1.58026916e+04]\n",
      " [1.00000000e+00 2.99150700e+03 6.56099473e-01 1.57984780e+04]\n",
      " [0.00000000e+00 2.99361710e+03 5.68346097e-01 1.57963679e+04]\n",
      " [0.00000000e+00 3.16636050e+03 3.02664375e-02 1.56236245e+04]\n",
      " [1.00000000e+00 3.27852310e+03 1.88406598e-02 1.55114619e+04]\n",
      " [2.00000000e+00 3.38726260e+03 2.80104175e-02 1.54027224e+04]\n",
      " [3.00000000e+00 3.49209360e+03 7.12657028e-03 1.52978914e+04]]\n",
      "(14, 4)\n"
     ]
    }
   ],
   "source": [
    "sD2=compute_series_para.spectra_D2(299, OJ_D2, QJ_D2, SJ_D2, bp.sumofstate_D2(299))\n",
    "print(sD2)\n",
    "print(sD2.shape)"
   ]
  },
  {
   "cell_type": "markdown",
   "metadata": {},
   "source": [
    "---"
   ]
  },
  {
   "cell_type": "code",
   "execution_count": 8,
   "metadata": {},
   "outputs": [
    {
     "name": "stdout",
     "output_type": "stream",
     "text": [
      "[[3.00000000e+00 3.56822170e+03 7.41818352e-03 1.52217633e+04]\n",
      " [2.00000000e+00 3.80679300e+03 6.46809032e-03 1.49831920e+04]\n",
      " [4.00000000e+00 4.10258190e+03 1.59092821e-02 1.46874031e+04]\n",
      " [3.00000000e+00 4.12587260e+03 3.39418875e-01 1.46641124e+04]\n",
      " [2.00000000e+00 4.14346530e+03 4.32842694e-01 1.46465197e+04]\n",
      " [1.00000000e+00 4.15525370e+03 2.42057027e+00 1.46347313e+04]\n",
      " [0.00000000e+00 4.16116620e+03 4.62078362e-01 1.46288188e+04]]\n",
      "(7, 4)\n"
     ]
    }
   ],
   "source": [
    "sH2=compute_series_para.spectra_H2_c(299, OJ_H2, QJ_H2 , bp.sumofstate_H2(299))\n",
    "print(sH2)\n",
    "print(sH2.shape)"
   ]
  },
  {
   "cell_type": "markdown",
   "metadata": {},
   "source": [
    "---\n",
    "\n",
    "## Perpendicular polarization"
   ]
  },
  {
   "cell_type": "code",
   "execution_count": 9,
   "metadata": {},
   "outputs": [
    {
     "name": "stdout",
     "output_type": "stream",
     "text": [
      "Dimension of input data\n",
      "\t (6, 2)\n",
      "\t (8, 2)\n",
      "\t (13, 2)\n",
      "\t**********************************************************\n",
      "\t \n",
      "\t This module is for generating the wavenumber-dependent\n",
      "\t intensity correction curve termed as C2 from \n",
      "\t  experimental Raman intensities using intensity ratios \n",
      "\n",
      "\t >> Ratios of all observed Raman intensities are treated here. << \n",
      "\n",
      "\t >> Parallel polarized Raman intensities (relative to \n",
      "\t\t       incident linearly polarized beam)  << \n",
      "\n",
      "\t >> Temperature is a fit parameter << \n",
      "\n",
      "\t This modeule requires edit on line 17 to 54 to \n",
      "\n",
      "\t  load and set parameters for the analysis.\n",
      "\t \n",
      "\t**********************************************************\n",
      "\n",
      "\t\t Checking imported data and set params\n",
      "\t\t  dataH2 found, OK\n",
      "\t\t  dataHD found, OK\n",
      "\t\t  dataD2 found, OK\n",
      "\t\t  xaxis found, OK\n",
      "\n",
      "\t\t  Analysis parameters:\n",
      "\t\t scaling factors (for c1 to c3) 100 10000 1000000\n",
      "\t\t Norm (defn of residual):  Frobenius\n",
      "\t**********************************************************\n",
      "\n",
      "\t REQUIRED DATA\n",
      "\t\t\t Ramanshift = vector, the x-axis in relative wavenumbers\n",
      "\t\t\t band area and error = 2D (2 columns), for H2, HD and D2\n",
      "\n",
      "\t\t\t J_max = scalar, for H2, HD and D2 (to compute reference spectra)\n",
      "\t**********************************************************\n",
      "\n",
      "\t\t\t  Example:\n",
      "\t\t\t  run_fit_linear (  300 , 0.0 )\n",
      "\t\t\t  run_fit_quadratic ( 300 , 0.05 ,0.02 )\n",
      "\t**********************************************************\n",
      "\t Printing dimensions of computed and loaded data\n",
      "\t H2 :  (6, 4) (6, 2)\n",
      "\t HD :  (8, 4) (8, 2)\n",
      "\t D2 :  (13, 4) (13, 2)\n",
      "Value of residuals with default coefs are\n",
      "\t linear \t: 299.671723561299\n",
      "\t quadratic \t: 299.6295822722841\n",
      "\t cubic  \t: 301.7898287437264\n",
      "\t quartic \t: 301.7898287437264\n",
      "\t quintuple \t: 301.7898287437264\n"
     ]
    }
   ],
   "source": [
    "# define the data files to be loaded in the script before importing\n",
    "\n",
    "import genC2_VR_T_dep_perp"
   ]
  },
  {
   "cell_type": "code",
   "execution_count": null,
   "metadata": {},
   "outputs": [],
   "source": []
  }
 ],
 "metadata": {
  "kernelspec": {
   "display_name": "Python 3",
   "language": "python",
   "name": "python3"
  },
  "language_info": {
   "codemirror_mode": {
    "name": "ipython",
    "version": 3
   },
   "file_extension": ".py",
   "mimetype": "text/x-python",
   "name": "python",
   "nbconvert_exporter": "python",
   "pygments_lexer": "ipython3",
   "version": "3.5.6"
  }
 },
 "nbformat": 4,
 "nbformat_minor": 4
}
