{
 "cells": [
  {
   "cell_type": "markdown",
   "metadata": {},
   "source": [
    "# Generate $C_2$ from vibration-rotation Raman intensities of $H_{2}$, $HD$ and $D_{2}$\n",
    "\n",
    "\n",
    "## >> temperaure is fixed in this analysis <<\n",
    "\n",
    "\n",
    "## Parallel polarized\n",
    "\n"
   ]
  },
  {
   "cell_type": "markdown",
   "metadata": {},
   "source": [
    "## Module `genC2_VR_TF_parallel`\n",
    "\n",
    "####  Experimental data with corresponding error for H2, HD and D2\n",
    "\n",
    "| band_area                  | error |\n",
    "|----------------------------|-------|\n",
    "| Area for J_max(antiStokes) | err   |\n",
    "| ...                        | ...   |\n",
    "| ...                        | ...   |\n",
    "| Area for J_max (Stokes)    | err   |\n",
    "\n",
    "Experimental data is in the form of the 2D array : The first column has the band area, while the second column has the error.\n",
    "\n",
    "The first row has the data for the highest J anti-Stokes band. Following rows contain the area as we move to higher wavenumbers. (This arrangement is strictly required since corresponding reference data is generated in the same order).\n",
    "\n",
    "#### J_max indices for the band area :\n",
    "In order for `compute_series_para` program to generate the band area for the same set as the experimental data, the correct J_max value must be supplied in the beginning section of the `genC2_CR_para` program.\n",
    "\n",
    "This block is given below:\n"
   ]
  },
  {
   "cell_type": "code",
   "execution_count": 1,
   "metadata": {},
   "outputs": [
    {
     "name": "stdout",
     "output_type": "stream",
     "text": [
      "Dimension of input data\n",
      "\t (7, 2)\n",
      "\t (9, 2)\n",
      "\t (14, 2)\n",
      "\t**********************************************************\n",
      "\t \n",
      "\t This module is for generating the wavenumber-dependent\n",
      "\t intensity correction curve termed as C2 from \n",
      "\t  experimental Raman intensities. \n",
      "\n",
      "\t This modeule requires edit on line 21 to 92 to \n",
      "\n",
      "\t  load data and set parameters for the analysis.\n",
      "\n",
      "\t  Temperature is fixed in this analysis. See line 51.\n",
      "\t**********************************************************\n",
      "\n",
      "\t\t Checking imported data and set params\n",
      "\t\t  dataH2 found, OK\n",
      "\t\t  dataHD found, OK\n",
      "\t\t  dataD2 found, OK\n",
      "\t\t  xaxis found, OK\n",
      "\n",
      "\t\t  Analysis parameters:\n",
      "\t\t Temperature (will be fixed) : 298\n",
      "\t\t scaling factors (for c1 to c3) : 100 10000 1000000\n",
      "\t\t Norm (defn of residual) :  Frobenius\n",
      "\t**********************************************************\n",
      "\n",
      "\t REQUIRED DATA\n",
      "\t\t\t Ramanshift = vector, the x-axis in relative wavenumbers\n",
      "\t\t\t band area and error = 2D (2 columns), for H2, HD and D2\n",
      "\n",
      "\t\t\t J_max = scalar, for H2, HD and D2 (to compute reference spectra)\n",
      "\t**********************************************************\n",
      "\n",
      "\t\t\t  Example:\n",
      "\t\t\t  run_fit_linear_TF(  1.04586 )\n",
      "\t\t\t  run_fit_quadratic_TF(  -1, -0.242 ) \n",
      "\t**********************************************************\n"
     ]
    }
   ],
   "source": [
    "import genC2_VR_TF_parallel"
   ]
  },
  {
   "cell_type": "code",
   "execution_count": null,
   "metadata": {},
   "outputs": [],
   "source": []
  },
  {
   "cell_type": "code",
   "execution_count": 2,
   "metadata": {},
   "outputs": [
    {
     "name": "stdout",
     "output_type": "stream",
     "text": [
      "**********************************************************\n",
      "\t\t -- Linear fit -- \n",
      "\t\tNorm (defn of residual):  Frobenius\n",
      "Initial coef :  k1=-1.04586 output = 36.14828071646808\n",
      "\n",
      "Optimization run     \n",
      "\n",
      " final_simplex: (array([[-0.58019652],\n",
      "       [-0.58019652]]), array([21.3597083, 21.3597083]))\n",
      "           fun: 21.359708301255825\n",
      "       message: 'Optimization terminated successfully.'\n",
      "          nfev: 67\n",
      "           nit: 32\n",
      "        status: 0\n",
      "       success: True\n",
      "             x: array([-0.58019652])\n",
      "\n",
      "Optimized result : k1=-0.580197 \n",
      "\n",
      "**********************************************************\n"
     ]
    },
    {
     "data": {
      "text/plain": [
       "21.359708301255825"
      ]
     },
     "execution_count": 2,
     "metadata": {},
     "output_type": "execute_result"
    }
   ],
   "source": [
    "genC2_VR_TF_parallel.run_fit_linear_TF( -1.04586)"
   ]
  },
  {
   "cell_type": "markdown",
   "metadata": {},
   "source": [
    "---"
   ]
  },
  {
   "cell_type": "code",
   "execution_count": 3,
   "metadata": {},
   "outputs": [
    {
     "name": "stdout",
     "output_type": "stream",
     "text": [
      "**********************************************************\n",
      "\t\t -- Quadratic fit -- \n",
      "\t\tNorm (defn of residual):  Frobenius\n",
      "Initial coef :  k1=-0.955, k2=-0.052 output = 42.62157712837988\n",
      "\n",
      "Optimization run     \n",
      "\n",
      " final_simplex: (array([[-0.59845   ,  0.05496243],\n",
      "       [-0.59845   ,  0.05496243],\n",
      "       [-0.59845   ,  0.05496243]]), array([9.60729396, 9.60729396, 9.60729396]))\n",
      "           fun: 9.60729395756561\n",
      "       message: 'Optimization terminated successfully.'\n",
      "          nfev: 160\n",
      "           nit: 83\n",
      "        status: 0\n",
      "       success: True\n",
      "             x: array([-0.59845   ,  0.05496243])\n",
      "\n",
      "Optimized result : k1=-0.59845, k2=0.054962 \n",
      "\n",
      "**********************************************************\n"
     ]
    },
    {
     "data": {
      "text/plain": [
       "9.60729395756561"
      ]
     },
     "execution_count": 3,
     "metadata": {},
     "output_type": "execute_result"
    }
   ],
   "source": [
    "genC2_VR_TF_parallel.run_fit_quadratic_TF( -0.955, -0.052)"
   ]
  },
  {
   "cell_type": "markdown",
   "metadata": {},
   "source": [
    "---"
   ]
  },
  {
   "cell_type": "code",
   "execution_count": null,
   "metadata": {},
   "outputs": [],
   "source": []
  },
  {
   "cell_type": "markdown",
   "metadata": {},
   "source": [
    "## Perpendicular polarization\n",
    "\n",
    "## Module `genC2_VR_TF_perp`\n",
    "\n",
    "####  Experimental data with corresponding error for H2, HD and D2\n",
    "\n",
    "| band_area                  | error |\n",
    "|----------------------------|-------|\n",
    "| Area for J_max(antiStokes) | err   |\n",
    "| ...                        | ...   |\n",
    "| ...                        | ...   |\n",
    "| Area for J_max (Stokes)    | err   |\n",
    "\n",
    "Experimental data is in the form of the 2D array : The first column has the band area, while the second column has the error.\n",
    "\n",
    "The first row has the data for the highest J anti-Stokes band. Following rows contain the area as we move to higher wavenumbers. (This arrangement is strictly required since corresponding reference data is generated in the same order).\n",
    "\n",
    "#### J_max indices for the band area :\n",
    "In order for `compute_series_para` program to generate the band area for the same set as the experimental data, the correct J_max value must be supplied in the beginning section of the `genC2_CR_para` program.\n",
    "\n",
    "This block is given below:"
   ]
  },
  {
   "cell_type": "code",
   "execution_count": 4,
   "metadata": {},
   "outputs": [
    {
     "name": "stdout",
     "output_type": "stream",
     "text": [
      "Dimension of input data\n",
      "\t (6, 2)\n",
      "\t (8, 2)\n",
      "\t (13, 2)\n",
      "\t**********************************************************\n",
      "\t \n",
      "\t This module is for generating the wavenumber-dependent\n",
      "\t intensity correction curve termed as C2 from \n",
      "\t  experimental Raman intensities. \n",
      "\n",
      "\t This modeule requires edit on line 21 to 92 to \n",
      "\n",
      "\t  load data and set parameters for the analysis.\n",
      "\n",
      "\t  Temperature is fixed in this analysis. See line 51.\n",
      "\t**********************************************************\n",
      "\n",
      "\t\t Checking imported data and set params\n",
      "\t\t  dataH2 found, OK\n",
      "\t\t  dataHD found, OK\n",
      "\t\t  dataD2 found, OK\n",
      "\t\t  xaxis found, OK\n",
      "\n",
      "\t\t  Analysis parameters:\n",
      "\t\t Temperature (will be fixed) : 298\n",
      "\t\t scaling factors (for c1 to c3) : 100 10000 1000000\n",
      "\t\t Norm (defn of residual) :  Frobenius\n",
      "\t**********************************************************\n",
      "\n",
      "\t REQUIRED DATA\n",
      "\t\t\t Ramanshift = vector, the x-axis in relative wavenumbers\n",
      "\t\t\t band area and error = 2D (2 columns), for H2, HD and D2\n",
      "\n",
      "\t\t\t J_max = scalar, for H2, HD and D2 (to compute reference spectra)\n",
      "\t**********************************************************\n",
      "\n",
      "\t\t\t  Example:\n",
      "\t\t\t  run_fit_linear_TF(  1.04586 )\n",
      "\t\t\t  run_fit_quadratic_TF(  -1, -0.242 ) \n",
      "\t**********************************************************\n"
     ]
    }
   ],
   "source": [
    "import genC2_VR_TF_perp"
   ]
  },
  {
   "cell_type": "code",
   "execution_count": 5,
   "metadata": {},
   "outputs": [
    {
     "name": "stdout",
     "output_type": "stream",
     "text": [
      "**********************************************************\n",
      "\t\t -- Linear fit -- \n",
      "\t\tNorm (defn of residual):  Frobenius\n",
      "Initial coef :  k1=-1.04586 output = 313.95432894919605\n",
      "\n",
      "Optimization run     \n",
      "\n",
      " final_simplex: (array([[-0.48886601],\n",
      "       [-0.48886601]]), array([306.24882582, 306.24882582]))\n",
      "           fun: 306.24882581672404\n",
      "       message: 'Optimization terminated successfully.'\n",
      "          nfev: 70\n",
      "           nit: 33\n",
      "        status: 0\n",
      "       success: True\n",
      "             x: array([-0.48886601])\n",
      "\n",
      "Optimized result : k1=-0.488866 \n",
      "\n",
      "**********************************************************\n"
     ]
    },
    {
     "data": {
      "text/plain": [
       "306.24882581672404"
      ]
     },
     "execution_count": 5,
     "metadata": {},
     "output_type": "execute_result"
    }
   ],
   "source": [
    "genC2_VR_TF_perp.run_fit_linear_TF( -1.04586)"
   ]
  },
  {
   "cell_type": "markdown",
   "metadata": {},
   "source": [
    "---"
   ]
  },
  {
   "cell_type": "code",
   "execution_count": 6,
   "metadata": {},
   "outputs": [
    {
     "name": "stdout",
     "output_type": "stream",
     "text": [
      "**********************************************************\n",
      "\t\t -- Quadratic fit -- \n",
      "\t\tNorm (defn of residual):  Frobenius\n",
      "Initial coef :  k1=-0.955, k2=-0.052 output = 315.67356876986236\n",
      "\n",
      "Optimization run     \n",
      "\n",
      " final_simplex: (array([[-0.39824204, -0.07078025],\n",
      "       [-0.39824204, -0.07078025],\n",
      "       [-0.39824204, -0.07078025]]), array([283.55447668, 283.55447668, 283.55447668]))\n",
      "           fun: 283.55447668369493\n",
      "       message: 'Optimization terminated successfully.'\n",
      "          nfev: 171\n",
      "           nit: 83\n",
      "        status: 0\n",
      "       success: True\n",
      "             x: array([-0.39824204, -0.07078025])\n",
      "\n",
      "Optimized result : k1=-0.398242, k2=-0.07078 \n",
      "\n",
      "**********************************************************\n"
     ]
    },
    {
     "data": {
      "text/plain": [
       "283.55447668369493"
      ]
     },
     "execution_count": 6,
     "metadata": {},
     "output_type": "execute_result"
    }
   ],
   "source": [
    "genC2_VR_TF_perp.run_fit_quadratic_TF( -0.955, -0.052)"
   ]
  },
  {
   "cell_type": "code",
   "execution_count": null,
   "metadata": {},
   "outputs": [],
   "source": []
  }
 ],
 "metadata": {
  "kernelspec": {
   "display_name": "Python 3",
   "language": "python",
   "name": "python3"
  },
  "language_info": {
   "codemirror_mode": {
    "name": "ipython",
    "version": 3
   },
   "file_extension": ".py",
   "mimetype": "text/x-python",
   "name": "python",
   "nbconvert_exporter": "python",
   "pygments_lexer": "ipython3",
   "version": "3.5.6"
  }
 },
 "nbformat": 4,
 "nbformat_minor": 4
}
