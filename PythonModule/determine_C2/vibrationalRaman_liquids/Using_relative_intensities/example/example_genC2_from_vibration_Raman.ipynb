{
 "cells": [
  {
   "cell_type": "markdown",
   "metadata": {},
   "source": [
    "# Generate C2 correction from Raman intensities of the vibrational transitions in CCl4, C6H6 and C6H12\n",
    "\n",
    "In our previous [work](https://doi.org/10.1002/jrs.5955), the relative Raman intensities of selected Raman transitions of these liquids have been reported. These data in accurate Raman intensities are used as reference in the present scheme."
   ]
  },
  {
   "cell_type": "code",
   "execution_count": 1,
   "metadata": {},
   "outputs": [],
   "source": [
    "import numpy as np"
   ]
  },
  {
   "cell_type": "markdown",
   "metadata": {},
   "source": [
    "## Reference data ( from earlier report)\n",
    "\n",
    "[Toward standardization of Raman spectroscopy: Accurate wavenumber and intensity calibration using rotational Raman spectra of H2, HD, D2, and vibration–rotation spectrum of O2](https://doi.org/10.1002/jrs.5955)"
   ]
  },
  {
   "cell_type": "code",
   "execution_count": 15,
   "metadata": {},
   "outputs": [
    {
     "name": "stdout",
     "output_type": "stream",
     "text": [
      "\n",
      " cyclohexane \n",
      "\n",
      "\n",
      " frequency relative_int error \n",
      "\n",
      "-801.3\t0.02709\t0.00054\n",
      "-383.1\t0.01279\t0.0005\n",
      "383.1\t0.07087\t0.001\n",
      "801.3\t1\t1.00E-06\n",
      "1027.7\t0.41122\t0.0082\n",
      "1266.1\t0.35901\t0.0071\n",
      "-----\n",
      "\n",
      "\n",
      " benzene \n",
      "\n",
      "-992.3\t0.01161\t0.0004\n",
      "607\t0.05376\t0.00108\n",
      "992.3\t1\t1.00E-06\n",
      "1176.5\t0.08864\t0.0022\n",
      "\n",
      "-----\n",
      "\n",
      "\n",
      " carbon tetrachloride \n",
      "\n",
      "-460.2\t0.12929\t0.0022\n",
      "-313.9\t0.09165\t0.00165\n",
      "-218.1\t0.12672\t0.0023\n",
      "218.1\t0.3357\t0.004\n",
      "313.9\t0.37907\t0.005\n",
      "460.2\t1\t1.00E-06"
     ]
    }
   ],
   "source": [
    "# reference data is shown below\n",
    "print(\"\\n cyclohexane \\n\")\n",
    "print(\"\\n frequency relative_int error \\n\")\n",
    "\n",
    "!cat reference_data/BA_ref_C6H12.dat\n",
    "print(\"\\n-----\\n\")\n",
    "\n",
    "# reference data is shown below\n",
    "print(\"\\n benzene \\n\")\n",
    "!cat reference_data/BA_ref_C6H6.dat\n",
    "print(\"\\n-----\\n\")\n",
    "# reference data is shown below\n",
    "print(\"\\n carbon tetrachloride \\n\")\n",
    "!cat reference_data/BA_ref_CCl4.dat"
   ]
  },
  {
   "cell_type": "code",
   "execution_count": 16,
   "metadata": {},
   "outputs": [
    {
     "name": "stdout",
     "output_type": "stream",
     "text": [
      "66534\t1422\r\n",
      "50119\t1100\r\n",
      "67593\t1442\r\n",
      "165861\t3309\r\n",
      "183087\t3631\r\n",
      "462508\t8773"
     ]
    }
   ],
   "source": [
    "# experimental data\n",
    "# the order of data is same as the reference data\n",
    "!cat expt_data_phe/BA_CCl4.txt"
   ]
  },
  {
   "cell_type": "code",
   "execution_count": 2,
   "metadata": {},
   "outputs": [
    {
     "name": "stdout",
     "output_type": "stream",
     "text": [
      "--- Dimension of input data ---\n",
      "\t (6, 2)\n",
      "\t (4, 2)\n",
      "\t (6, 2)\n",
      "--- Dimension of reference data ---\n",
      "\t (6, 3)\n",
      "\t (4, 3)\n",
      "\t (6, 3)\n",
      "\t**********************************************************\n",
      "\t \n",
      "\t This module is for generating the wavenumber-dependent\n",
      "\t intensity correction curve termed as C2 from \n",
      "\t  experimental Raman intensities using intensity ratios \n",
      "\t  of vibrational Raman liquids. \n",
      "\n",
      "\t >> Ratios of all observed Raman intensities are treated here. << \n",
      "\n",
      "\t >> Parallel polarized Raman intensities (relative to \n",
      "\t\t       incident linearly polarized beam)  << \n",
      "\n",
      "\t >> This scheme uses reference data on relative Raman << \n",
      "\n",
      "\t >> intensities of a few liquids. \n",
      "\n",
      "\t >>  See article : https://doi.org/10.1002/jrs.5955 << \n",
      "\n",
      "\t This module requires edit on line 25 to 75 to \n",
      "\n",
      "\t  load and set parameters for the analysis.\n",
      "\t \n",
      "\t**********************************************************\n",
      "\n",
      "\t\t  Analysis parameters:\n",
      "\t\t scaling factors (for c1 to c3) %s %s %s 1000 1000000 1000000000\n",
      "\t\t Norm (defn of residual):  Frobenius\n",
      "\n",
      "\t\t Checking imported data and set params\n",
      "168387.62609699197\n",
      "9609.312670990013\n",
      "1877.816178715011\n"
     ]
    }
   ],
   "source": [
    "import genC2_vib_intensities"
   ]
  },
  {
   "cell_type": "code",
   "execution_count": 3,
   "metadata": {},
   "outputs": [],
   "source": [
    "#      SET INIT COEFS\n",
    "\n",
    "param_linear=np.zeros((1))\n",
    "param_linear[0]= -0.8197\n",
    "\n",
    "#----------------------------\n",
    "param_quadratic=np.zeros((2))\n",
    "param_quadratic[0]= -0.64910\n",
    "param_quadratic[1]= -0.086008\n",
    "\n",
    "#----------------------------\n",
    "param_cubic=np.zeros((3))\n",
    "param_cubic[0]= -0.649\n",
    "param_cubic[1]= -0.086\n",
    "param_cubic[2]= -0.000100\n",
    "\n",
    "param_quartic=np.zeros((4))\n",
    "param_quartic[0]= -0.649\n",
    "param_quartic[1]= -0.086\n",
    "param_quartic[2]= -0.000100\n",
    "param_quartic[3]= -0.000001"
   ]
  },
  {
   "cell_type": "code",
   "execution_count": 4,
   "metadata": {},
   "outputs": [
    {
     "data": {
      "text/plain": [
       "2.0524280580038776"
      ]
     },
     "execution_count": 4,
     "metadata": {},
     "output_type": "execute_result"
    }
   ],
   "source": [
    "\n",
    "\n",
    "genC2_vib_intensities.residual_linear( param_linear )"
   ]
  },
  {
   "cell_type": "code",
   "execution_count": 5,
   "metadata": {},
   "outputs": [
    {
     "name": "stdout",
     "output_type": "stream",
     "text": [
      "**********************************************************\n",
      "\t\t -- Linear fit -- \n",
      "\t\tNorm (defn of residual):  Frobenius\n",
      "Initial coef :  k1=0.0 output = 0.2881973213168788\n",
      "\n",
      "Optimization run     \n",
      "\n",
      " final_simplex: (array([[-0.12909419],\n",
      "       [-0.12909419]]), array([0.26063987, 0.26063987]))\n",
      "           fun: 0.2606398704602216\n",
      "       message: 'Optimization terminated successfully.'\n",
      "          nfev: 71\n",
      "           nit: 35\n",
      "        status: 0\n",
      "       success: True\n",
      "             x: array([-0.12909419])\n",
      "\n",
      "Optimized result : k1=-0.129094 \n",
      "\n",
      "**********************************************************\n"
     ]
    },
    {
     "data": {
      "text/plain": [
       "0.2606398704602216"
      ]
     },
     "execution_count": 5,
     "metadata": {},
     "output_type": "execute_result"
    }
   ],
   "source": [
    "genC2_vib_intensities.run_fit_linear ( 0.0 )"
   ]
  },
  {
   "cell_type": "code",
   "execution_count": 6,
   "metadata": {},
   "outputs": [
    {
     "name": "stdout",
     "output_type": "stream",
     "text": [
      "**********************************************************\n",
      "\t\t -- Quadratic fit -- \n",
      "\t\tNorm (defn of residual):  Frobenius\n",
      "Initial coef :  k1=-0.1, k2=0.0 output = 0.2623302326438688\n",
      "\n",
      "Optimization run     \n",
      "\n",
      " final_simplex: (array([[-0.03527267, -0.06639898],\n",
      "       [-0.03527267, -0.06639898],\n",
      "       [-0.03527267, -0.06639898]]), array([0.25617423, 0.25617423, 0.25617423]))\n",
      "           fun: 0.25617423235999437\n",
      "       message: 'Optimization terminated successfully.'\n",
      "          nfev: 150\n",
      "           nit: 74\n",
      "        status: 0\n",
      "       success: True\n",
      "             x: array([-0.03527267, -0.06639898])\n",
      "\n",
      "Optimized result : k1=-0.035273, k2=-0.066399 \n",
      "\n",
      "**********************************************************\n"
     ]
    },
    {
     "data": {
      "text/plain": [
       "0.25617423235999437"
      ]
     },
     "execution_count": 6,
     "metadata": {},
     "output_type": "execute_result"
    }
   ],
   "source": [
    "genC2_vib_intensities.run_fit_quadratic ( -0.1, 0.0 )"
   ]
  },
  {
   "cell_type": "code",
   "execution_count": null,
   "metadata": {},
   "outputs": [],
   "source": []
  }
 ],
 "metadata": {
  "kernelspec": {
   "display_name": "Python 3",
   "language": "python",
   "name": "python3"
  },
  "language_info": {
   "codemirror_mode": {
    "name": "ipython",
    "version": 3
   },
   "file_extension": ".py",
   "mimetype": "text/x-python",
   "name": "python",
   "nbconvert_exporter": "python",
   "pygments_lexer": "ipython3",
   "version": "3.5.6"
  }
 },
 "nbformat": 4,
 "nbformat_minor": 4
}
