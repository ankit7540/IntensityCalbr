{
 "cells": [
  {
   "cell_type": "markdown",
   "metadata": {},
   "source": [
    "# Generate C2 correction from anti-Stokes and Stokes Raman intensity ratios.\n",
    "\n",
    "Example based on vibrational transitions in CCl4, C6H6 and C6H12\n",
    "\n",
    "---\n",
    "\n",
    "In this scheme, the known temperature is used to compute the true(or reference) intensity ratio of the anti-Stokes and Stokes bands. \n",
    "Experimental band areas are loaded as numpy arrays. Initial coefs are used to model the wavelength-dependent sensitivity (which is unity at zero at 0 cm-1). Coefs of the polynomial are optimized in least-squares scheme to obtain smallest difference in the true and experimental intensity ratios."
   ]
  },
  {
   "cell_type": "code",
   "execution_count": 1,
   "metadata": {},
   "outputs": [],
   "source": [
    "import numpy as np"
   ]
  },
  {
   "cell_type": "code",
   "execution_count": 2,
   "metadata": {},
   "outputs": [
    {
     "name": "stdout",
     "output_type": "stream",
     "text": [
      "Dimension of input data\n",
      "\t**********************************************************\n",
      "\t \n",
      "\t This module is for generating the wavenumber-dependent\n",
      "\t intensity correction curve termed as C2 from \n",
      "\t  experimental Raman intensities using anti-Stokes\n",
      "\t and Stokes intensity ratios.  \n",
      "\n",
      "\t >> The reference intensity ratio is computed  << \n",
      "\n",
      "\t >> using known temperature provided by the user.\n",
      "\n",
      "\t This module requires edit on line 24 to 55 to \n",
      "\n",
      "\t  load and set parameters for the analysis.\n",
      "\t Residual is defined as sum of squares of the difference. \n",
      "\t**********************************************************\n",
      "\n",
      "\t\t  Analysis parameters:\n",
      "\t\t scaling factors (for c1 to c3)  10000.0 10000000.0 1000000000.0\n"
     ]
    }
   ],
   "source": [
    "import genC2_antiStokes_Stokes"
   ]
  },
  {
   "cell_type": "code",
   "execution_count": 8,
   "metadata": {},
   "outputs": [
    {
     "name": "stdout",
     "output_type": "stream",
     "text": [
      "Module describing the weighted non-linear optimization scheme used to\n",
      "determine the wavelength sensitivity (C2 correction)\n",
      "of the spectrometer using a  polynomial as a model function.\n",
      "\n",
      "This scheme is based on using anti-Stokes and Stokes Raman \n",
      "intensity ratios of the liquids, for a given temperature.\n"
     ]
    }
   ],
   "source": [
    "print(genC2_antiStokes_Stokes.__doc__)"
   ]
  },
  {
   "cell_type": "code",
   "execution_count": 3,
   "metadata": {},
   "outputs": [],
   "source": [
    "init_coef_linear = np.zeros(1)\n",
    "init_coef_linear[0] = 0.0"
   ]
  },
  {
   "cell_type": "code",
   "execution_count": 4,
   "metadata": {},
   "outputs": [
    {
     "data": {
      "text/plain": [
       "1.1236633994556806"
      ]
     },
     "execution_count": 4,
     "metadata": {},
     "output_type": "execute_result"
    }
   ],
   "source": [
    "genC2_antiStokes_Stokes.residual_linear(init_coef_linear)"
   ]
  },
  {
   "cell_type": "code",
   "execution_count": 5,
   "metadata": {},
   "outputs": [
    {
     "name": "stdout",
     "output_type": "stream",
     "text": [
      "**********************************************************\n",
      "\t\t -- Linear fit -- \n",
      "Initial coef :  k1=0.95 output = 1.1228375589486999\n",
      "\n",
      "Optimization run     \n",
      "\n",
      " final_simplex: (array([[1.06838976],\n",
      "       [1.06838975]]), array([1.12282791, 1.12282791]))\n",
      "           fun: 1.1228279135500618\n",
      "       message: 'Optimization terminated successfully.'\n",
      "          nfev: 66\n",
      "           nit: 29\n",
      "        status: 0\n",
      "       success: True\n",
      "             x: array([1.06838976])\n",
      "\n",
      "Optimized result : k1=1.06839 \n",
      "\n",
      "**********************************************************\n"
     ]
    },
    {
     "data": {
      "text/plain": [
       "1.1228279135500618"
      ]
     },
     "execution_count": 5,
     "metadata": {},
     "output_type": "execute_result"
    }
   ],
   "source": [
    "genC2_antiStokes_Stokes.run_fit_linear ( 0.95 )"
   ]
  },
  {
   "cell_type": "markdown",
   "metadata": {},
   "source": [
    "---\n"
   ]
  },
  {
   "cell_type": "code",
   "execution_count": 6,
   "metadata": {},
   "outputs": [],
   "source": [
    "init_coef_quadratic = np.zeros(2)\n",
    "init_coef_quadratic[0] = 0.5\n",
    "init_coef_quadratic[1] = 0.25"
   ]
  },
  {
   "cell_type": "code",
   "execution_count": 7,
   "metadata": {},
   "outputs": [
    {
     "name": "stdout",
     "output_type": "stream",
     "text": [
      "**********************************************************\n",
      "\t\t -- Quadratic fit -- \n",
      "Initial coef :  k1=1.0, k2=-0.0025 output = 1.1228311186657385\n",
      "\n",
      "Optimization run     \n",
      "\n",
      " final_simplex: (array([[ 1.05516429, -1.015829  ],\n",
      "       [ 1.05516429, -1.015829  ],\n",
      "       [ 1.05516429, -1.015829  ]]), array([1.1228278, 1.1228278, 1.1228278]))\n",
      "           fun: 1.1228278034276407\n",
      "       message: 'Optimization terminated successfully.'\n",
      "          nfev: 196\n",
      "           nit: 90\n",
      "        status: 0\n",
      "       success: True\n",
      "             x: array([ 1.05516429, -1.015829  ])\n",
      "\n",
      "Optimized result : k1=1.055164, k2=-1.015829 \n",
      "\n",
      "**********************************************************\n"
     ]
    },
    {
     "data": {
      "text/plain": [
       "1.1228278034276407"
      ]
     },
     "execution_count": 7,
     "metadata": {},
     "output_type": "execute_result"
    }
   ],
   "source": [
    "genC2_antiStokes_Stokes.run_fit_quadratic ( 1.0, -0.0025 )"
   ]
  },
  {
   "cell_type": "code",
   "execution_count": null,
   "metadata": {},
   "outputs": [],
   "source": []
  }
 ],
 "metadata": {
  "kernelspec": {
   "display_name": "Python 3",
   "language": "python",
   "name": "python3"
  },
  "language_info": {
   "codemirror_mode": {
    "name": "ipython",
    "version": 3
   },
   "file_extension": ".py",
   "mimetype": "text/x-python",
   "name": "python",
   "nbconvert_exporter": "python",
   "pygments_lexer": "ipython3",
   "version": "3.5.6"
  }
 },
 "nbformat": 4,
 "nbformat_minor": 4
}
